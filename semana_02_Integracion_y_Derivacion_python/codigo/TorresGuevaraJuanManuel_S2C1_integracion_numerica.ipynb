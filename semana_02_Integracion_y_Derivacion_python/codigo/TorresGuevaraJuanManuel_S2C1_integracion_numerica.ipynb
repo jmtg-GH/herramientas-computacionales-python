{
  "cells": [
    {
      "cell_type": "markdown",
      "metadata": {
        "id": "yUSe-IEFpZwp"
      },
      "source": [
        "INTEGRACIÓN NUMÉRICA"
      ]
    },
    {
      "cell_type": "code",
      "execution_count": 1,
      "metadata": {
        "id": "lQpqA4JRniy5"
      },
      "outputs": [],
      "source": [
        "#Este ejercicio preparatorio busca que usted implemente correctamente tres métodos de integración numérica.\n",
        "#Pruebe distintos valores de h. Si termina el ejercicio antes de que acabe la clase, repita el proceso para el método de Monte Carlo y el método del valor medio.\n",
        "\n",
        "import numpy as np\n",
        "import matplotlib.pylab as plt\n",
        "\n",
        "# Función a integrar\n",
        "def funcion(x1):\n",
        "    \treturn np.cos(x1)\n"
      ]
    },
    {
      "cell_type": "code",
      "execution_count": 2,
      "metadata": {
        "id": "aSfvBxOQpoFs",
        "colab": {
          "base_uri": "https://localhost:8080/"
        },
        "outputId": "c1b1b272-2981-4afd-f55e-cfeb52c76ce0"
      },
      "outputs": [
        {
          "output_type": "stream",
          "name": "stdout",
          "text": [
            "[0.00000000e+00 4.71333165e-04 9.42666329e-04 ... 4.71144631e+00\n",
            " 4.71191765e+00 4.71238898e+00]\n",
            "[ 1.00000000e+00  9.99999889e-01  9.99999556e-01 ... -9.42666190e-04\n",
            " -4.71333147e-04 -1.83697020e-16]\n"
          ]
        }
      ],
      "source": [
        "#El intervalo de integración es de 0 a 3pi/2.\n",
        "#Divida el intervalo de integración en M secciones para calcular sus integrales.\n",
        "#pruebe distintos valores de M\n",
        "\n",
        "# paso 1: use linespace (ver documentación: https://numpy.org/doc/stable/reference/generated/numpy.linspace.html)\n",
        "# para hacer el arreglo de su intervalo en x\n",
        "M=9999\n",
        "a=0\n",
        "b=3*np.pi/2\n",
        "\n",
        "x = np.linspace(a,b,M)\n",
        "print(x)\n",
        "\n",
        "#paso 2: genere el arreglo de valores de su función fx:\n",
        "\n",
        "fx = np.cos(x)\n",
        "print(fx)"
      ]
    },
    {
      "cell_type": "code",
      "execution_count": 3,
      "metadata": {
        "id": "fIBHvm7guBgT",
        "colab": {
          "base_uri": "https://localhost:8080/",
          "height": 447
        },
        "outputId": "f623d2dd-7d69-4468-946d-6feee97b42ab"
      },
      "outputs": [
        {
          "output_type": "execute_result",
          "data": {
            "text/plain": [
              "[<matplotlib.lines.Line2D at 0x7f7af4dd6900>]"
            ]
          },
          "metadata": {},
          "execution_count": 3
        },
        {
          "output_type": "display_data",
          "data": {
            "text/plain": [
              "<Figure size 640x480 with 1 Axes>"
            ],
            "image/png": "[encoded data removed]"
          },
          "metadata": {}
        }
      ],
      "source": [
        "#1) grafique su función para verificar que hizo bien los pasos anteriores\n",
        "\n",
        "\n",
        "import matplotlib.pyplot as plt\n",
        "\n",
        "plt.plot(x,fx)"
      ]
    },
    {
      "cell_type": "code",
      "execution_count": 4,
      "metadata": {
        "id": "ad7jU8CUpulg",
        "colab": {
          "base_uri": "https://localhost:8080/"
        },
        "outputId": "9785e91c-29c4-4461-ab5f-5f827d101181"
      },
      "outputs": [
        {
          "output_type": "stream",
          "name": "stdout",
          "text": [
            "El valor por sumas de Riemann es: -0.9997643149047516\n",
            "El valor analítico es: -1.0\n",
            "Error relativo: 0.00023568509524840575\n",
            "Error absoluto porcentual: 0.023568509524840575%\n"
          ]
        }
      ],
      "source": [
        "# 2a). Usando el método de suma de rectángulos, calcule la integral de la función.\n",
        "#Compare su valor obtenido numéricamente con el valor analitico e imprima ambos valores.\n",
        "\n",
        "h=(b-a)/(M-1)\n",
        "\n",
        "rec = np.sum(fx)*h\n",
        "real = np.sin(3*np.pi/2)-np.sin(0)\n",
        "\n",
        "print(f\"El valor por sumas de Riemann es: {rec}\")\n",
        "print(f\"El valor analítico es: {real}\")\n",
        "\n",
        "print(f\"Error relativo: {np.abs(rec-real)}\")\n",
        "print(f\"Error absoluto porcentual: {np.abs(rec-real)/np.abs(real)*100}%\")"
      ]
    },
    {
      "cell_type": "code",
      "execution_count": 5,
      "metadata": {
        "id": "CHZUcV-Fpwdq",
        "colab": {
          "base_uri": "https://localhost:8080/"
        },
        "outputId": "104c7e96-ec54-45ee-a499-3924acb64ff6"
      },
      "outputs": [
        {
          "output_type": "stream",
          "name": "stdout",
          "text": [
            "El valor por método del trapecio es: -0.9999999814870874\n",
            "El valor analítico es: -1.0\n",
            "Error relativo: 1.8512912647317137e-08\n",
            "Error absoluto porcentual: 1.8512912647317137e-06%\n"
          ]
        }
      ],
      "source": [
        "# 2b). Usando el método de trapezoide, calcule la integral de la función.\n",
        "#Compare su valor obtenido numéricamente con el valor analitico e imprima ambos valores.\n",
        "\n",
        "trap = np.sum(fx[1:M-1])*h+fx[0]*h/2+fx[M-1]*h/2\n",
        "\n",
        "print(f\"El valor por método del trapecio es: {trap}\")\n",
        "print(f\"El valor analítico es: {real}\")\n",
        "\n",
        "print(f\"Error relativo: {np.abs(trap-real)}\")\n",
        "print(f\"Error absoluto porcentual: {np.abs(trap-real)/np.abs(real)*100}%\")"
      ]
    },
    {
      "cell_type": "code",
      "execution_count": 6,
      "metadata": {
        "id": "lmm6oEfop8_w",
        "colab": {
          "base_uri": "https://localhost:8080/"
        },
        "outputId": "e89e5ff7-77c5-4743-8bce-35f30501f7ac"
      },
      "outputs": [
        {
          "output_type": "stream",
          "name": "stdout",
          "text": [
            "El valor el método de Simpson 3/2 es: -0.9999999999999999\n",
            "El valor analítico es: -1.0\n",
            "Error relativo: 1.1102230246251565e-16\n",
            "Error absoluto porcentual: 1.1102230246251565e-14%\n"
          ]
        }
      ],
      "source": [
        "# 2c). Usando el método de Simpson, calcule la integral de la función.\n",
        "#Compare su valor obtenido numéricamente con el valor analitico e imprima ambos valores.\n",
        "\n",
        "simpson = np.sum(fx[1:M-1:2]*4*h/3)+np.sum(fx[2:M-2:2]*2*h/3)+fx[0]*h/3+fx[M-1]*h/3 #fx[1:M-1:2]\n",
        "\n",
        "print(f\"El valor el método de Simpson 3/2 es: {simpson}\")\n",
        "print(f\"El valor analítico es: {real}\")\n",
        "\n",
        "print(f\"Error relativo: {np.abs(simpson-real)}\")\n",
        "print(f\"Error absoluto porcentual: {np.abs(simpson-real)/np.abs(real)*100}%\")"
      ]
    },
    {
      "cell_type": "code",
      "execution_count": 7,
      "metadata": {
        "id": "7zXvkKvgqAts",
        "colab": {
          "base_uri": "https://localhost:8080/"
        },
        "outputId": "de199a81-0ad1-4df9-b322-b872e083e71c"
      },
      "outputs": [
        {
          "output_type": "stream",
          "name": "stdout",
          "text": [
            "MÉTODO DEL TRAPECIO\n",
            "Valor real    Propio                    Scipy\n",
            "-1.0          -0.9999999814870874      -0.999999981487087\n",
            "Error relativo: \n",
            "Propio                       Scipy\n",
            "1.8512912647317137e-08     1.8512912980384044e-08\n",
            "\n",
            "MÉTODO DE SIMPSON\n",
            "Valor real    Propio                    Scipy\n",
            "-1.0          -0.9999999999999999      -1.0\n",
            "Error relativo: \n",
            "Propio                       Scipy\n",
            "1.1102230246251565e-16     0.0\n"
          ]
        }
      ],
      "source": [
        "# 3a)Repita el ejercicio anterior usando algunos de los métodos de las librerías de scipy\n",
        "# https://docs.scipy.org/doc/scipy/tutorial/integrate.html\n",
        "\n",
        "import scipy.integrate as integrate\n",
        "\n",
        "trapscipy = integrate.trapezoid(fx, x=x)\n",
        "\n",
        "print(\"MÉTODO DEL TRAPECIO\")\n",
        "print(\"Valor real    Propio                    Scipy\")\n",
        "print(real,\"        \",trap,\"    \",trapscipy)\n",
        "\n",
        "print(f\"Error relativo: \")\n",
        "print(\"Propio                       Scipy\")\n",
        "print(f\"{np.abs(trap-real)}     {np.abs(trapscipy-real)}\")\n",
        "\n",
        "simpson_scipy = integrate.simpson(fx, x=x)\n",
        "\n",
        "print(\"\\nMÉTODO DE SIMPSON\")\n",
        "print(\"Valor real    Propio                    Scipy\")\n",
        "print(real,\"        \",simpson,\"    \",simpson_scipy)\n",
        "\n",
        "print(f\"Error relativo: \")\n",
        "print(\"Propio                       Scipy\")\n",
        "print(f\"{np.abs(simpson-real)}     {np.abs(simpson_scipy-real)}\")"
      ]
    },
    {
      "cell_type": "code",
      "execution_count": 74,
      "metadata": {
        "id": "E1nlmlCr1Pg4"
      },
      "outputs": [],
      "source": [
        "# 3b)OPCIONAL: Repita el ejercicio anterior usando el método de Monte Carlo y/o el del valor medio (ver diapositivas)\n",
        "\n",
        "x_aleatorio = a+np.random.random(M)*(b-a)"
      ]
    },
    {
      "cell_type": "code",
      "execution_count": 81,
      "metadata": {
        "id": "S2JNkd2R1fvf",
        "colab": {
          "base_uri": "https://localhost:8080/"
        },
        "outputId": "be1d59f0-775f-4238-fe6f-7f07708a9938"
      },
      "outputs": [
        {
          "output_type": "stream",
          "name": "stdout",
          "text": [
            "[False False  True ... False  True False]\n",
            "3965\n",
            "-0.9750907046819779\n",
            "Error relativo: 0.024909295318022107\n",
            "Error absoluto porcentual: 2.4909295318022107%\n"
          ]
        }
      ],
      "source": [
        "#Método Monte Carlo\n",
        "\n",
        "fx = funcion(x_aleatorio)\n",
        "\n",
        "y_max = np.max(fx)\n",
        "y_min = np.min(fx)\n",
        "\n",
        "area_total=np.abs(y_max-y_min)*np.abs(b-a)\n",
        "\n",
        "fx_aleatorio = y_min+np.random.random(M)*np.abs(y_max-y_min)\n",
        "\n",
        "hits = fx_aleatorio <= fx\n",
        "print(hits)\n",
        "N_pond=np.sum(hits)\n",
        "print(N_pond)\n",
        "area_rectangulo_base=y_min*(b-a)\n",
        "monte_carlo=area_total*(N_pond/M)+area_rectangulo_base\n",
        "print(monte_carlo)\n",
        "print(f\"Error relativo: {np.abs(monte_carlo-real)}\")\n",
        "print(f\"Error absoluto porcentual: {np.abs(monte_carlo-real)/np.abs(real)*100}%\")"
      ]
    },
    {
      "cell_type": "code",
      "execution_count": 37,
      "metadata": {
        "colab": {
          "base_uri": "https://localhost:8080/"
        },
        "id": "N2NIS_dyoD1A",
        "outputId": "1fc9029e-d7c4-4698-d9f3-50e9ce9ec08d"
      },
      "outputs": [
        {
          "output_type": "stream",
          "name": "stdout",
          "text": [
            "La integral por Método de Valor medio es: -0.9668845363361587\n",
            "Error relativo: 0.03311546366384133\n",
            "Error absoluto porcentual: 3.3115463663841327%\n"
          ]
        }
      ],
      "source": [
        "#Método del valor medio\n",
        "fx_aleatorio = funcion(x_aleatorio)\n",
        "valor_medio=(b-a)*1/M*np.sum(fx_aleatorio)\n",
        "print(f\"La integral por Método de Valor medio es: {valor_medio}\")\n",
        "print(f\"Error relativo: {np.abs(valor_medio-real)}\")\n",
        "print(f\"Error absoluto porcentual: {np.abs(valor_medio-real)/np.abs(real)*100}%\")"
      ]
    },
    {
      "cell_type": "code",
      "source": [],
      "metadata": {
        "id": "TXkw457EqHLC"
      },
      "execution_count": null,
      "outputs": []
    }
  ],
  "metadata": {
    "colab": {
      "provenance": []
    },
    "kernelspec": {
      "display_name": ".venv (3.12.3)",
      "language": "python",
      "name": "python3"
    },
    "language_info": {
      "codemirror_mode": {
        "name": "ipython",
        "version": 3
      },
      "file_extension": ".py",
      "mimetype": "text/x-python",
      "name": "python",
      "nbconvert_exporter": "python",
      "pygments_lexer": "ipython3",
      "version": "3.12.3"
    }
  },
  "nbformat": 4,
  "nbformat_minor": 0
}