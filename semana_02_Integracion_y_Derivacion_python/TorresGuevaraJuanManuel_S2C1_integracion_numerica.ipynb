{
 "cells": [
  {
   "cell_type": "markdown",
   "metadata": {
    "id": "yUSe-IEFpZwp"
   },
   "source": [
    "INTEGRACIÓN NUMÉRICA"
   ]
  },
  {
   "cell_type": "code",
   "execution_count": 1,
   "metadata": {
    "id": "lQpqA4JRniy5"
   },
   "outputs": [],
   "source": [
    "#Este ejercicio preparatorio busca que usted implemente correctamente tres métodos de integración numérica.\n",
    "#Pruebe distintos valores de h. Si termina el ejercicio antes de que acabe la clase, repita el proceso para el método de Monte Carlo y el método del valor medio.\n",
    "\n",
    "import numpy as np\n",
    "import matplotlib.pylab as plt\n",
    "\n",
    "# Función a integrar\n",
    "def funcion(x1):\n",
    "    \treturn np.cos(x1)\n"
   ]
  },
  {
   "cell_type": "code",
   "execution_count": 5,
   "metadata": {
    "id": "aSfvBxOQpoFs"
   },
   "outputs": [
    {
     "name": "stdout",
     "output_type": "stream",
     "text": [
      "[0.00000000e+00 4.71333165e-04 9.42666329e-04 ... 4.71144631e+00\n",
      " 4.71191765e+00 4.71238898e+00]\n",
      "[ 1.00000000e+00  9.99999889e-01  9.99999556e-01 ... -9.42666190e-04\n",
      " -4.71333147e-04 -1.83697020e-16]\n"
     ]
    }
   ],
   "source": [
    "#El intervalo de integración es de 0 a 3pi/2.\n",
    "#Divida el intervalo de integración en M secciones para calcular sus integrales.\n",
    "#pruebe distintos valores de M\n",
    "\n",
    "# paso 1: use linespace (ver documentación: https://numpy.org/doc/stable/reference/generated/numpy.linspace.html)\n",
    "# para hacer el arreglo de su intervalo en x\n",
    "M=9999\n",
    "a=0\n",
    "b=3*np.pi/2\n",
    "\n",
    "x = np.linspace(a,b,M)\n",
    "print(x)\n",
    "\n",
    "#paso 2: genere el arreglo de valores de su función fx:\n",
    "\n",
    "fx = np.cos(x)\n",
    "print(fx)"
   ]
  },
  {
   "cell_type": "code",
   "execution_count": 6,
   "metadata": {
    "id": "fIBHvm7guBgT"
   },
   "outputs": [
    {
     "data": {
      "text/plain": [
       "[<matplotlib.lines.Line2D at 0x7f00e0e9b850>]"
      ]
     },
     "execution_count": 6,
     "metadata": {},
     "output_type": "execute_result"
    },
    {
     "data": {
      "image/png": "[encoded data removed]",
      "text/plain": [
       "<Figure size 640x480 with 1 Axes>"
      ]
     },
     "metadata": {},
     "output_type": "display_data"
    }
   ],
   "source": [
    "#1) grafique su función para verificar que hizo bien los pasos anteriores\n",
    "\n",
    "\n",
    "import matplotlib.pyplot as plt\n",
    "\n",
    "plt.plot(x,fx)"
   ]
  },
  {
   "cell_type": "code",
   "execution_count": 25,
   "metadata": {
    "id": "ad7jU8CUpulg"
   },
   "outputs": [
    {
     "name": "stdout",
     "output_type": "stream",
     "text": [
      "El valor por sumas de Riemann es: -0.9997643149047516\n",
      "El valor analítico es: -1.0\n",
      "Error relativo: 0.00023568509524840575\n",
      "Error absoluto porcentual: 0.023568509524840575%\n"
     ]
    }
   ],
   "source": [
    "# 2a). Usando el método de suma de rectángulos, calcule la integral de la función.\n",
    "#Compare su valor obtenido numéricamente con el valor analitico e imprima ambos valores.\n",
    "\n",
    "h=(b-a)/(M-1)\n",
    "\n",
    "rec = np.sum(fx)*h\n",
    "real = np.sin(3*np.pi/2)-np.sin(0)\n",
    "\n",
    "print(f\"El valor por sumas de Riemann es: {rec}\")\n",
    "print(f\"El valor analítico es: {real}\")\n",
    "\n",
    "print(f\"Error relativo: {np.abs(rec-real)}\")\n",
    "print(f\"Error absoluto porcentual: {np.abs(rec-real)/np.abs(real)*100}%\")"
   ]
  },
  {
   "cell_type": "code",
   "execution_count": null,
   "metadata": {
    "id": "CHZUcV-Fpwdq"
   },
   "outputs": [
    {
     "name": "stdout",
     "output_type": "stream",
     "text": [
      "El valor por sumas de Riemann es: -0.9999999814870874\n",
      "El valor analítico es: -1.0\n",
      "Error relativo: 1.8512912647317137e-08\n",
      "Error absoluto porcentual: 1.8512912647317137e-06%\n"
     ]
    }
   ],
   "source": [
    "# 2b). Usando el método de trapezoide, calcule la integral de la función.\n",
    "#Compare su valor obtenido numéricamente con el valor analitico e imprima ambos valores.\n",
    "\n",
    "trap = np.sum(fx[1:M-1])*h+fx[0]*h/2+fx[M-1]*h/2\n",
    "\n",
    "print(f\"El valor por método del trapecio es: {trap}\")\n",
    "print(f\"El valor analítico es: {real}\")\n",
    "\n",
    "print(f\"Error relativo: {np.abs(trap-real)}\")\n",
    "print(f\"Error absoluto porcentual: {np.abs(trap-real)/np.abs(real)*100}%\")"
   ]
  },
  {
   "cell_type": "code",
   "execution_count": 31,
   "metadata": {
    "id": "lmm6oEfop8_w"
   },
   "outputs": [
    {
     "name": "stdout",
     "output_type": "stream",
     "text": [
      "El valor el método de Simpson 3/2 es: -0.9999999999999999\n",
      "El valor analítico es: -1.0\n",
      "Error relativo: 1.1102230246251565e-16\n",
      "Error absoluto porcentual: 1.1102230246251565e-14%\n"
     ]
    }
   ],
   "source": [
    "# 2c). Usando el método de Simpson, calcule la integral de la función.\n",
    "#Compare su valor obtenido numéricamente con el valor analitico e imprima ambos valores.\n",
    "\n",
    "simpson = np.sum(fx[1:M-1:2]*4*h/3)+np.sum(fx[2:M-2:2]*2*h/3)+fx[0]*h/3+fx[M-1]*h/3 #fx[1:M-1:2]\n",
    "\n",
    "print(f\"El valor el método de Simpson 3/2 es: {simpson}\")\n",
    "print(f\"El valor analítico es: {real}\")\n",
    "\n",
    "print(f\"Error relativo: {np.abs(simpson-real)}\")\n",
    "print(f\"Error absoluto porcentual: {np.abs(simpson-real)/np.abs(real)*100}%\")"
   ]
  },
  {
   "cell_type": "code",
   "execution_count": 33,
   "metadata": {
    "executionInfo": {
     "elapsed": 8,
     "status": "ok",
     "timestamp": 1744341111322,
     "user": {
      "displayName": "Veronica Arias Callejas",
      "userId": "14833890889026909903"
     },
     "user_tz": 300
    },
    "id": "7zXvkKvgqAts"
   },
   "outputs": [
    {
     "name": "stdout",
     "output_type": "stream",
     "text": [
      "-0.999999981487087\n"
     ]
    }
   ],
   "source": [
    "# 3a)Repita el ejercicio anterior usando algunos de los métodos de las librerías de scipy\n",
    "# https://docs.scipy.org/doc/scipy/tutorial/integrate.html\n",
    "\n",
    "import scipy.integrate as integrate\n",
    "\n",
    "print(integrate.trapezoid(fx, x=x))"
   ]
  },
  {
   "cell_type": "code",
   "execution_count": 2,
   "metadata": {
    "executionInfo": {
     "elapsed": 16,
     "status": "ok",
     "timestamp": 1744341171394,
     "user": {
      "displayName": "Veronica Arias Callejas",
      "userId": "14833890889026909903"
     },
     "user_tz": 300
    },
    "id": "E1nlmlCr1Pg4"
   },
   "outputs": [],
   "source": [
    "# 3b)OPCIONAL: Repita el ejercicio anterior usando el método de Monte Carlo y/o el del valor medio (ver diapositivas)"
   ]
  },
  {
   "cell_type": "code",
   "execution_count": null,
   "metadata": {
    "id": "S2JNkd2R1fvf"
   },
   "outputs": [],
   "source": []
  }
 ],
 "metadata": {
  "colab": {
   "provenance": []
  },
  "kernelspec": {
   "display_name": "Python 3",
   "name": "python3"
  },
  "language_info": {
   "codemirror_mode": {
    "name": "ipython",
    "version": 3
   },
   "file_extension": ".py",
   "mimetype": "text/x-python",
   "name": "python",
   "nbconvert_exporter": "python",
   "pygments_lexer": "ipython3",
   "version": "3.11.10"
  }
 },
 "nbformat": 4,
 "nbformat_minor": 0
}
