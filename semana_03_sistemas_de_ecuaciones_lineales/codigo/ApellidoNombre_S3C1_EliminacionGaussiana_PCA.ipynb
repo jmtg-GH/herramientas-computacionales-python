{
 "cells": [
  {
   "cell_type": "markdown",
   "metadata": {
    "id": "2iRl_ogVuqSn"
   },
   "source": [
    "ELIMINACIÓN GAUSSIANA"
   ]
  },
  {
   "cell_type": "code",
   "execution_count": 9,
   "metadata": {
    "colab": {
     "base_uri": "https://localhost:8080/"
    },
    "id": "b6l4X4-Iu3cq",
    "outputId": "30311ce8-b868-4b85-f2fb-efaf6b8c580a"
   },
   "outputs": [
    {
     "name": "stdout",
     "output_type": "stream",
     "text": [
      "3\n",
      "[[-2.37202355  4.31809672  3.20787315]\n",
      " [ 3.13234495  4.5400256  -2.62212555]\n",
      " [ 4.24557832  3.30454817 -4.53301239]]\n"
     ]
    }
   ],
   "source": [
    "#Escriba un código de eliminación Gaussiana para resolver el sistema Ax=B.\n",
    "\n",
    "import numpy as np\n",
    "N=np.random.randint(3, 7)\n",
    "Arreglo=(np.random.random((N,N))*10.0)-5.0\n",
    "B=(np.random.random((N,1))*10.0)-5.0\n",
    "\n",
    "\n",
    "print(N)\n",
    "print(Arreglo)\n",
    "#compare sus resultados con el paquete de numpy:\n",
    "#https://numpy.org/doc/stable/reference/generated/numpy.linalg.solve.html"
   ]
  }
 ],
 "metadata": {
  "colab": {
   "provenance": []
  },
  "kernelspec": {
   "display_name": ".venv",
   "language": "python",
   "name": "python3"
  },
  "language_info": {
   "codemirror_mode": {
    "name": "ipython",
    "version": 3
   },
   "file_extension": ".py",
   "mimetype": "text/x-python",
   "name": "python",
   "nbconvert_exporter": "python",
   "pygments_lexer": "ipython3",
   "version": "3.11.10"
  }
 },
 "nbformat": 4,
 "nbformat_minor": 0
}
