{
 "cells": [
  {
   "cell_type": "markdown",
   "metadata": {
    "id": "2iRl_ogVuqSn"
   },
   "source": [
    "ELIMINACIÓN GAUSSIANA"
   ]
  },
  {
   "cell_type": "code",
   "execution_count": 89,
   "metadata": {
    "colab": {
     "base_uri": "https://localhost:8080/"
    },
    "id": "b6l4X4-Iu3cq",
    "outputId": "30311ce8-b868-4b85-f2fb-efaf6b8c580a"
   },
   "outputs": [
    {
     "name": "stdout",
     "output_type": "stream",
     "text": [
      "3\n",
      "[[ 0.93814658  2.50575297 -3.28957196 -3.7848848 ]\n",
      " [-4.57291666 -2.97894353  1.07754205  1.63127059]\n",
      " [-2.16014178  4.84222451 -2.85823318 -3.99645283]]\n"
     ]
    }
   ],
   "source": [
    "#Escriba un código de eliminación Gaussiana para resolver el sistema Ax=B.\n",
    "\n",
    "import numpy as np\n",
    "N=np.random.randint(3, 7)\n",
    "Arreglo=(np.random.random((N,N))*10.0)-5.0\n",
    "B=(np.random.random((N,1))*10.0)-5.0\n",
    "\n",
    "print(N)\n",
    "\n",
    "#print(Arreglo)\n",
    "#print(B)\n",
    "\n",
    "mat_amp = np.hstack((Arreglo,B))\n",
    "\n",
    "print(mat_amp)\n",
    "#compare sus resultados con el paquete de numpy:\n",
    "#https://numpy.org/doc/stable/reference/generated/numpy.linalg.solve.html"
   ]
  },
  {
   "cell_type": "code",
   "execution_count": 124,
   "metadata": {},
   "outputs": [
    {
     "name": "stdout",
     "output_type": "stream",
     "text": [
      "Matriz Original:\n",
      "[[ 0.93814658  2.50575297 -3.28957196 -3.7848848 ]\n",
      " [-4.57291666 -2.97894353  1.07754205  1.63127059]\n",
      " [-2.16014178  4.84222451 -2.85823318 -3.99645283]]\n",
      "\n",
      "Matriz Triangular Superior (Procediendo...):\n",
      "[[ 1.    2.67 -3.51 -4.03]\n",
      " [-4.57 -2.98  1.08  1.63]\n",
      " [-2.16  4.84 -2.86 -4.  ]]\n",
      "\n",
      "Matriz Triangular Superior (Procediendo...):\n",
      "[[  1.     2.67  -3.51  -4.03]\n",
      " [  0.     1.    -1.62  -1.82]\n",
      " [  0.    10.61 -10.43 -12.71]]\n",
      "\n",
      "Matriz Triangular Superior (Procediendo...):\n",
      "[[ 1.    2.67 -3.51 -4.03]\n",
      " [ 0.    1.   -1.62 -1.82]\n",
      " [ 0.    0.    1.    0.98]]\n",
      "Matriz Original:\n",
      "[[ 0.93814658  2.50575297 -3.28957196 -3.7848848 ]\n",
      " [-4.57291666 -2.97894353  1.07754205  1.63127059]\n",
      " [-2.16014178  4.84222451 -2.85823318 -3.99645283]]\n",
      "\n",
      "Matriz Triangular Superior (Resultado):\n",
      "[[ 1.    2.67 -3.51 -4.03]\n",
      " [ 0.    1.   -1.62 -1.82]\n",
      " [ 0.    0.    1.    0.98]]\n"
     ]
    }
   ],
   "source": [
    "mat_gauss = np.copy(mat_amp)\n",
    "\n",
    "print(\"Matriz Original:\")\n",
    "print(mat_amp)\n",
    "\n",
    "for j in range(N):\n",
    "    mat_gauss[j] = mat_gauss[j]/mat_gauss[j,j]\n",
    "    print(\"\\nMatriz Triangular Superior (Procediendo...):\")\n",
    "    print(np.round(mat_gauss, 2))\n",
    "    for i in range(j+1, N):\n",
    "        mat_gauss[i] = mat_gauss[i] - mat_gauss[i,j] * mat_gauss[j]\n",
    "\n",
    "print(\"Matriz Original:\")\n",
    "print(mat_amp)\n",
    "print(\"\\nMatriz Triangular Superior (Resultado):\")\n",
    "print(np.round(mat_gauss, 2))\n"
   ]
  },
  {
   "cell_type": "code",
   "execution_count": 130,
   "metadata": {},
   "outputs": [
    {
     "name": "stdout",
     "output_type": "stream",
     "text": [
      "x = -4.03\n"
     ]
    }
   ],
   "source": [
    "#Resolviendo hacia atrás\n",
    "\n",
    "x = mat_gauss[0,N]\n",
    "\n",
    "\n",
    "\n",
    "print(f\"x = {np.round(x,2)}\")"
   ]
  }
 ],
 "metadata": {
  "colab": {
   "provenance": []
  },
  "kernelspec": {
   "display_name": ".venv (3.12.3)",
   "language": "python",
   "name": "python3"
  },
  "language_info": {
   "codemirror_mode": {
    "name": "ipython",
    "version": 3
   },
   "file_extension": ".py",
   "mimetype": "text/x-python",
   "name": "python",
   "nbconvert_exporter": "python",
   "pygments_lexer": "ipython3",
   "version": "3.12.3"
  }
 },
 "nbformat": 4,
 "nbformat_minor": 0
}
