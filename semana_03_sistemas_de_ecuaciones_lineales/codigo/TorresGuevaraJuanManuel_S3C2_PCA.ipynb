{
 "cells": [
  {
   "cell_type": "markdown",
   "metadata": {
    "id": "itDWfp6bkZUr"
   },
   "source": [
    "# Principal Component Analysis (PCA)"
   ]
  },
  {
   "cell_type": "code",
   "execution_count": 2,
   "metadata": {
    "id": "DO2gGbzThwJh"
   },
   "outputs": [],
   "source": [
    "import numpy as np\n",
    "import matplotlib.pylab as plt"
   ]
  },
  {
   "cell_type": "markdown",
   "metadata": {
    "id": "zQWTNZtjhoe8"
   },
   "source": [
    "EJERCICIO 1"
   ]
  },
  {
   "cell_type": "code",
   "execution_count": null,
   "metadata": {
    "id": "P-ESoV5Zhrfe"
   },
   "outputs": [
    {
     "name": "stdout",
     "output_type": "stream",
     "text": [
      "Covarianza 'a mano': -363.6375\n",
      "Covarianza Numpy: [[ 958.19444444 -363.6375    ]\n",
      " [-363.6375      235.085     ]]\n",
      "958.1944444444443\n"
     ]
    },
    {
     "data": {
      "text/plain": [
       "<function print(*args, sep=' ', end='\\n', file=None, flush=False)>"
      ]
     },
     "execution_count": 21,
     "metadata": {},
     "output_type": "execute_result"
    }
   ],
   "source": [
    "\n",
    "#Ejercicio 1:\n",
    "# Los arrays `u` y `v` representan dos series en función del tiempo `t`.\n",
    "# 1) Grafique las dos series de datos en una misma imagen y guarde dicha gráfica sn mostrarla en 'serie.pdf'\n",
    "# 2) Calcule la covarianza entre `u` y `v` e imprima su valor.\n",
    "# 3) Calcule la varianza de `u` e imprima su valor.\n",
    "# 4) Imprima un mensaje donde explique qué puede inferir del valor de covarianza obtenido.\n",
    "import numpy as np\n",
    "t = np.array([0.,0.1,0.2,0.3,0.4,0.5,0.6, 0.8, 0.9])\n",
    "u = np.array([-12.,-45.,-6.,-78.,-34.,-22.,10.,-31.,27.])\n",
    "v = np.array([3.,11.,1.3,37.,11.,6.,-23.,7.,7.])\n",
    "\n",
    "# 1)\n",
    "plt.plot(t,u, label=\"Serie u\")\n",
    "plt.plot(t,v, label=\"Serie v\")\n",
    "plt.savefig(\"serie.pdf\")\n",
    "plt.close()\n",
    "\n",
    "# 2)\n",
    "#u_med = u.mean()\n",
    "#v_med = v.mean()\n",
    "#print(v_med)\n",
    "#u_centrado = u - u.mean()\n",
    "#v_centrado = v - v.mean()\n",
    "cov = np.sum((u - u.mean())*(v - v.mean()))/(np.size(u)-1)\n",
    "print(f\"Covarianza 'a mano': {cov}\")\n",
    "\n",
    "# 3)\n",
    "var_u = np.sum((u - u.mean())**2)/(np.size(u)-1)\n",
    "print(var_u)\n",
    "\n",
    "# 4)\n",
    "print\n",
    "\n",
    "# 5) Construya un código para obtener la matriz de covarianza de los datos anteriores. (compare su resultado con el de numpy.cov)\n"
   ]
  },
  {
   "cell_type": "markdown",
   "metadata": {
    "id": "BRdeTN63hlqW"
   },
   "source": [
    "EJERCICIO 2:"
   ]
  },
  {
   "cell_type": "code",
   "execution_count": null,
   "metadata": {
    "id": "RvqTyCLWmzmY"
   },
   "outputs": [],
   "source": [
    "# 6) Repita lo anterior para obtener la matriz de covarianza de los datos del archivo: room-temperature.csv\n",
    "\n",
    "# 6a) Grafique las 4 series de datos en una misma imagen y guarde dicha gráfica sin mostrarla en 'serieTemp.pdf'\n",
    "# 7) Calcule los autovalores y los autovectores de la matriz de covarianza de los datos de temperatura.\n",
    "#(use el paquete: https://numpy.org/doc/stable/reference/generated/numpy.linalg.eig.html)\n",
    "\n",
    "# 8) Lea: https://towardsdatascience.com/a-one-stop-shop-for-principal-component-analysis-5582fb7e0a9c\n",
    "#Organice sus autovalores y autovectores e imprima cuales son sus componentes principales (puede usar paquetes de numpy para encontrar autovalores y autovectores. lea cuidadosamente la documentación.)\n",
    "# 9) Imprima cuantos componentes principales considera que son necesarios para explicar sus datos.\n",
    "# 10) Grafique sus datos en el nuevo sistema de referencia (PC1 PC2)\n",
    "# 11) Comente cuales son las agrupaciones de sus variables originales que aparecen. Mire en su gráfica de los datos originales si el resultado tiene sentido.\n"
   ]
  },
  {
   "cell_type": "markdown",
   "metadata": {
    "id": "-nCNHppOhtQb"
   },
   "source": [
    "EJERCICIO 3:"
   ]
  },
  {
   "cell_type": "code",
   "execution_count": null,
   "metadata": {
    "id": "YhfNcA0WnIHS"
   },
   "outputs": [],
   "source": [
    "# 12) Repita lo anterior para obtener la matriz de covarianza de los datos del archivo: WCBD.dat\n",
    "\n",
    "# 13) Calcule los autovalores y los autovectores de la matriz de covarianza de los datos.\n",
    "#(use el paquete: https://numpy.org/doc/stable/reference/generated/numpy.linalg.eig.html)\n",
    "\n",
    "# 14) Lea: https://towardsdatascience.com/a-one-stop-shop-for-principal-component-analysis-5582fb7e0a9c\n",
    "#Organice sus autovalores y autovectores e imprima cuales son sus componentes principales (puede usar paquetes de numpy para encontrar autovalores y autovectores. lea cuidadosamente la documentación.)\n",
    "\n",
    "# 15) Imprima cuantos componentes principales considera que son necesarios para explicar sus datos.\n",
    "\n",
    "# 16) Grafique sus datos en el nuevo sistema de referencia (PC1 PC2)\n",
    "\n",
    "# 17) Puede ver agrupaciones entre los tumores malignos y benignos?\n",
    "\n"
   ]
  },
  {
   "cell_type": "markdown",
   "metadata": {
    "id": "ohWbTTg6iGvP"
   },
   "source": [
    "RECUERDE LOS PASOS:\n",
    "\n",
    "descargar y limpiar los datos. Ampliarlos (si aplica)\n",
    "\n",
    "restarles el promedio y normalizar (si aplica)\n",
    "\n",
    "Calcular la matriz de covarianza de los datos\n",
    "\n",
    "Encontrar autovalores y autovectores (usar paquete de numpy), y organizarlos (de mayor a menor autovalor)\n",
    "\n",
    "Mirar los autovalores y decidir cuántos componentes principales (autovectores) mantener.\n",
    "\n"
   ]
  },
  {
   "cell_type": "code",
   "execution_count": null,
   "metadata": {
    "id": "FMhtNSFCsxsD"
   },
   "outputs": [],
   "source": []
  }
 ],
 "metadata": {
  "colab": {
   "provenance": []
  },
  "kernelspec": {
   "display_name": ".venv (3.12.3)",
   "language": "python",
   "name": "python3"
  },
  "language_info": {
   "codemirror_mode": {
    "name": "ipython",
    "version": 3
   },
   "file_extension": ".py",
   "mimetype": "text/x-python",
   "name": "python",
   "nbconvert_exporter": "python",
   "pygments_lexer": "ipython3",
   "version": "3.12.3"
  }
 },
 "nbformat": 4,
 "nbformat_minor": 0
}
