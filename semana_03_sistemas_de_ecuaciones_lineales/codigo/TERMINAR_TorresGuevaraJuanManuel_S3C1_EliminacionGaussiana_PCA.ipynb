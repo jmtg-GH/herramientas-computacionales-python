{
  "cells": [
    {
      "cell_type": "markdown",
      "metadata": {
        "id": "2iRl_ogVuqSn"
      },
      "source": [
        "ELIMINACIÓN GAUSSIANA"
      ]
    },
    {
      "cell_type": "code",
      "execution_count": 3,
      "metadata": {
        "colab": {
          "base_uri": "https://localhost:8080/"
        },
        "id": "b6l4X4-Iu3cq",
        "outputId": "30311ce8-b868-4b85-f2fb-efaf6b8c580a"
      },
      "outputs": [
        {
          "name": "stdout",
          "output_type": "stream",
          "text": [
            "5\n",
            "[[-3.71898321  3.83528391 -0.55879089 -4.74508178  1.95143788  1.82362656]\n",
            " [-3.26917583  4.70824373  4.62310943 -3.61860929 -4.54003578  2.54834981]\n",
            " [ 0.82733434  1.20667939 -3.60839743  2.11469184  0.19039167 -1.23134004]\n",
            " [ 3.81878825  1.89690591 -3.4239749  -4.44302741 -4.72717838  3.15352183]\n",
            " [-2.08273852 -2.58056426 -1.08239575 -0.61605403 -0.96018135  2.26328978]]\n"
          ]
        }
      ],
      "source": [
        "#Escriba un código de eliminación Gaussiana para resolver el sistema Ax=B.\n",
        "\n",
        "import numpy as np\n",
        "N=np.random.randint(3, 7)\n",
        "Arreglo=(np.random.random((N,N))*10.0)-5.0\n",
        "B=(np.random.random((N,1))*10.0)-5.0\n",
        "\n",
        "print(N)\n",
        "\n",
        "#print(Arreglo)\n",
        "#print(B)\n",
        "\n",
        "mat_amp = np.hstack((Arreglo,B))\n",
        "\n",
        "print(mat_amp)\n",
        "#compare sus resultados con el paquete de numpy:\n",
        "#https://numpy.org/doc/stable/reference/generated/numpy.linalg.solve.html"
      ]
    },
    {
      "cell_type": "code",
      "execution_count": 4,
      "metadata": {},
      "outputs": [
        {
          "name": "stdout",
          "output_type": "stream",
          "text": [
            "Matriz Original:\n",
            "[[-3.71898321  3.83528391 -0.55879089 -4.74508178  1.95143788  1.82362656]\n",
            " [-3.26917583  4.70824373  4.62310943 -3.61860929 -4.54003578  2.54834981]\n",
            " [ 0.82733434  1.20667939 -3.60839743  2.11469184  0.19039167 -1.23134004]\n",
            " [ 3.81878825  1.89690591 -3.4239749  -4.44302741 -4.72717838  3.15352183]\n",
            " [-2.08273852 -2.58056426 -1.08239575 -0.61605403 -0.96018135  2.26328978]]\n",
            "\n",
            "Matriz Triangular Superior (Procediendo...):\n",
            "[[ 1.   -1.03  0.15  1.28 -0.52 -0.49]\n",
            " [-3.27  4.71  4.62 -3.62 -4.54  2.55]\n",
            " [ 0.83  1.21 -3.61  2.11  0.19 -1.23]\n",
            " [ 3.82  1.9  -3.42 -4.44 -4.73  3.15]\n",
            " [-2.08 -2.58 -1.08 -0.62 -0.96  2.26]]\n",
            "\n",
            "Matriz Triangular Superior (Procediendo...):\n",
            "[[ 1.   -1.03  0.15  1.28 -0.52 -0.49]\n",
            " [ 0.    1.    3.83  0.41 -4.68  0.71]\n",
            " [ 0.    2.06 -3.73  1.06  0.62 -0.83]\n",
            " [ 0.    5.84 -4.   -9.32 -2.72  5.03]\n",
            " [ 0.   -4.73 -0.77  2.04 -2.05  1.24]]\n",
            "\n",
            "Matriz Triangular Superior (Procediendo...):\n",
            "[[ 1.000e+00 -1.030e+00  1.500e-01  1.280e+00 -5.200e-01 -4.900e-01]\n",
            " [ 0.000e+00  1.000e+00  3.830e+00  4.100e-01 -4.680e+00  7.100e-01]\n",
            " [-0.000e+00 -0.000e+00  1.000e+00 -2.000e-02 -8.800e-01  2.000e-01]\n",
            " [ 0.000e+00  0.000e+00 -2.632e+01 -1.173e+01  2.458e+01  9.000e-01]\n",
            " [ 0.000e+00  0.000e+00  1.732e+01  4.000e+00 -2.418e+01  4.590e+00]]\n",
            "\n",
            "Matriz Triangular Superior (Procediendo...):\n",
            "[[ 1.   -1.03  0.15  1.28 -0.52 -0.49]\n",
            " [ 0.    1.    3.83  0.41 -4.68  0.71]\n",
            " [-0.   -0.    1.   -0.02 -0.88  0.2 ]\n",
            " [-0.   -0.   -0.    1.   -0.11 -0.5 ]\n",
            " [ 0.    0.    0.    4.31 -8.87  1.18]]\n",
            "\n",
            "Matriz Triangular Superior (Procediendo...):\n",
            "[[ 1.   -1.03  0.15  1.28 -0.52 -0.49]\n",
            " [ 0.    1.    3.83  0.41 -4.68  0.71]\n",
            " [-0.   -0.    1.   -0.02 -0.88  0.2 ]\n",
            " [-0.   -0.   -0.    1.   -0.11 -0.5 ]\n",
            " [-0.   -0.   -0.   -0.    1.   -0.4 ]]\n",
            "Matriz Original:\n",
            "[[-3.71898321  3.83528391 -0.55879089 -4.74508178  1.95143788  1.82362656]\n",
            " [-3.26917583  4.70824373  4.62310943 -3.61860929 -4.54003578  2.54834981]\n",
            " [ 0.82733434  1.20667939 -3.60839743  2.11469184  0.19039167 -1.23134004]\n",
            " [ 3.81878825  1.89690591 -3.4239749  -4.44302741 -4.72717838  3.15352183]\n",
            " [-2.08273852 -2.58056426 -1.08239575 -0.61605403 -0.96018135  2.26328978]]\n",
            "\n",
            "Matriz Triangular Superior (Resultado):\n",
            "[[ 1.   -1.03  0.15  1.28 -0.52 -0.49]\n",
            " [ 0.    1.    3.83  0.41 -4.68  0.71]\n",
            " [-0.   -0.    1.   -0.02 -0.88  0.2 ]\n",
            " [-0.   -0.   -0.    1.   -0.11 -0.5 ]\n",
            " [-0.   -0.   -0.   -0.    1.   -0.4 ]]\n"
          ]
        }
      ],
      "source": [
        "mat_gauss = np.copy(mat_amp)\n",
        "\n",
        "print(\"Matriz Original:\")\n",
        "print(mat_amp)\n",
        "\n",
        "for j in range(N): #Eliminación Gaussiana\n",
        "    mat_gauss[j] = mat_gauss[j]/mat_gauss[j,j]\n",
        "    print(\"\\nMatriz Triangular Superior (Procediendo...):\")\n",
        "    print(np.round(mat_gauss, 2))\n",
        "    for i in range(j+1, N):\n",
        "        mat_gauss[i] = mat_gauss[i] - mat_gauss[i,j] * mat_gauss[j]\n",
        "\n",
        "print(\"Matriz Original:\")\n",
        "print(mat_amp)\n",
        "print(\"\\nMatriz Triangular Superior (Resultado):\")\n",
        "print(np.round(mat_gauss, 2))"
      ]
    },
    {
      "cell_type": "code",
      "execution_count": 9,
      "metadata": {},
      "outputs": [
        {
          "name": "stdout",
          "output_type": "stream",
          "text": [
            "[ 0.   0.   0.   0.  -0.4]\n",
            "[ 0.    0.    0.   -0.54 -0.4 ]\n",
            "[ 0.    0.   -0.16 -0.54 -0.4 ]\n",
            "[ 0.   -0.3  -0.16 -0.54 -0.4 ]\n",
            "[-0.29 -0.3  -0.16 -0.54 -0.4 ]\n",
            "x = [-0.29 -0.3  -0.16 -0.54 -0.4 ]\n"
          ]
        }
      ],
      "source": [
        "#Resolviendo hacia atrás\n",
        "\n",
        "solucion = np.zeros(N)\n",
        "\n",
        "for i in range(N - 1, -1, -1):\n",
        "    solucion[i] = mat_gauss[i,-1] - np.dot(mat_gauss[i, i+1:N], solucion[i+1:N])\n",
        "    print(np.round(solucion,2))\n",
        "\n",
        "print(f\"x = {np.round(solucion,2)}\")"
      ]
    },
    {
      "cell_type": "code",
      "execution_count": null,
      "metadata": {},
      "outputs": [
        {
          "name": "stdout",
          "output_type": "stream",
          "text": [
            "\n",
            "--- Comparación de Resultados ---\n",
            "Mi solución:  [-0.290828 -0.297828 -0.162734 -0.540619 -0.395564]\n",
            "Solución de NumPy: [-0.290828 -0.297828 -0.162734 -0.540619 -0.395564]\n",
            "\n",
            "¿Mi implementación es correcta? -> Sí\n"
          ]
        }
      ],
      "source": [
        "# --- Verificación Final ---\n",
        "\n",
        "print(\"\\n--- Comparación de Resultados ---\")\n",
        "\n",
        "print(f\"Mi solución:  {np.round(solucion, 6)}\")\n",
        "\n",
        "solucion_numpy = np.linalg.solve(Arreglo, B.flatten())\n",
        "print(f\"Solución de NumPy: {np.round(solucion_numpy, 6)}\")\n",
        "\n",
        "# Verificación automática\n",
        "es_correcta = np.allclose(solucion, solucion_numpy) #numpy.allclose compara los valores de un arreglo\n",
        "                                                    #con otro con una tolerancia por defecto de 1x10^-5\n",
        "print(f\"\\n¿Mi implementación es correcta? ->\", \"Sí\" if {es_correcta} else \"No\")"
      ]
    }
  ],
  "metadata": {
    "colab": {
      "provenance": []
    },
    "kernelspec": {
      "display_name": ".venv (3.12.3)",
      "language": "python",
      "name": "python3"
    },
    "language_info": {
      "codemirror_mode": {
        "name": "ipython",
        "version": 3
      },
      "file_extension": ".py",
      "mimetype": "text/x-python",
      "name": "python",
      "nbconvert_exporter": "python",
      "pygments_lexer": "ipython3",
      "version": "3.12.3"
    }
  },
  "nbformat": 4,
  "nbformat_minor": 0
}
