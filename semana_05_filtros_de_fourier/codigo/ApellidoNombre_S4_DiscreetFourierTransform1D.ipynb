{
  "nbformat": 4,
  "nbformat_minor": 0,
  "metadata": {
    "colab": {
      "provenance": []
    },
    "kernelspec": {
      "name": "python3",
      "display_name": "Python 3"
    },
    "language_info": {
      "name": "python"
    }
  },
  "cells": [
    {
      "cell_type": "markdown",
      "source": [
        "EJERCICIO 1 OPCIONAL: IMPLEMENTACIÓN TRANSFORMADA DISCRETA DE FOURIER"
      ],
      "metadata": {
        "id": "FnfjHRI1WqBl"
      }
    },
    {
      "cell_type": "code",
      "execution_count": null,
      "metadata": {
        "id": "x5t-3gLPWXHx"
      },
      "outputs": [],
      "source": [
        "import numpy as np\n",
        "import matplotlib.pylab as plt\n",
        "from scipy.fftpack import fft, fftfreq\n",
        "\n",
        "# Construcción de la señal\n",
        "N = 128 # number of point in the whole interval\n",
        "f = 200.0 #  frequency in Hz\n",
        "dt = 1 / (f * 32 ) #32 samples per unit frequency\n",
        "t = np.linspace( 0, (N-1)*dt, N)\n",
        "y = np.cos(2 * np.pi * f * t) - 0.4 * np.sin(2 * np.pi * (2*f) * t )+ 0.17*np.sin(2 * np.pi * (15*f) * t )\n",
        "\n",
        "# 1) implemente de la transformada de fourier discreta\n",
        "#(para eso vea las diapositivas o el libro de Landau)\n",
        "# o use los paquetes de scipy.fftpack\n",
        "\n",
        "# 2) Genere el arreglo de las frecuencias (ver documentación de fftfreq):\n",
        "\n",
        "# 3) Si hizo su implementación propia, haga una gráfica comparando método propio con implementación de scipy.fftpack.fft\n",
        "\n"
      ]
    },
    {
      "cell_type": "markdown",
      "source": [
        "EJERCICIO 2: FILTRO DE FOURIER"
      ],
      "metadata": {
        "id": "55z4LLN7W0Eq"
      }
    },
    {
      "cell_type": "code",
      "source": [
        "import numpy as np\n",
        "import matplotlib.pylab as plt\n",
        "from scipy.fftpack import fft, fftfreq\n",
        "\n",
        "#Basandose en el tutorial\n",
        "#(https://realpython.com/python-scipy-fft/#practical-example-remove-unwanted-noise-from-audio)\n",
        "\n",
        "\n",
        "# 1) Almacene los datos de signal.dat. La columna 1 es el tiempo y la columna 2 es su señal f(t).\n",
        "#Grafique su señal en función del tiempo. (use genfromtxt() para almacenar los datos en un arreglo de numpy)\n",
        "\n",
        "# 2) Use fftfreq (BONO si usa su implementación propia)\n",
        "# y haga una gráfica de su transformada de fourier en función de las frecuencias.\n",
        "\n",
        "# 3) En este punto la idea es hacer un filtro para eliminar las frecuencias altas en la señal original.\n",
        "# Para esto debe hacer la transformada de fourier de la señal.\n",
        "# Luego debe hacer cero la transformada (tanto la parte real como la imaginaria) para\n",
        "# las frecuencias que quieren eliminar (en este caso las frecuencias altas).\n",
        "# Este filtro les va a permitir filtrar el ruido. #\n",
        "# Use la gráfica de la transformada de fourier del punto 3 para determinar\n",
        "# un valor apropiado de la frecuencia de corte que debe usar para filtrar dicho ruido de alta frecuencia.\n",
        "\n",
        "\n",
        "\n",
        "# 4) Grafique la señal filtrada"
      ],
      "metadata": {
        "id": "FT3H1uJWW34n"
      },
      "execution_count": 3,
      "outputs": []
    },
    {
      "cell_type": "markdown",
      "source": [
        "EJERCICIO 3 (OPCIONAL: MUY DIVERTIDO SI OYEN LOS AUDIOS): FILTROS VIOLIN-TROMPETA"
      ],
      "metadata": {
        "id": "yZ_FSJh3XNXV"
      }
    },
    {
      "cell_type": "code",
      "source": [
        "import numpy as np\n",
        "import matplotlib.pylab as plt\n",
        "from scipy.fftpack import fft, fftfreq\n",
        "\n",
        "# 1) Almacene los datos de violin.wav (use wav.read('violin.wav')).\n",
        "#Grafique su señal en función del tiempo y guarde dicha gráfica.\n",
        "\n",
        "# 2) Use fftfreq (BONO si usa su implementación propia) y haga una gráfica de su transformada de fourier en función de las frecuencias.\n",
        "\n",
        "# 3) Haga un filtro que elimine el pico principal. Grafique su señal filtrada.\n",
        "#Escuche (OJO con el volumen!) sus datos filtrados.\n",
        "#Repita lo anterior haciendo un filtro pasaaltos y uno pasabajos.\n",
        "\n",
        "#NOTA: para el manejo de archivos .wav mire la documentacion de python de input-output en https://docs.scipy.org/doc/scipy-0.14.0/reference/io.html)\n",
        "\n",
        "# 4) repita lo anterior para trumpet.wav que es la señal correspondiente al sonido\n",
        "#de una trompeta tocando la misma nota que el violín del puntos anterior.\n",
        "\n",
        "#Mire en la transformada de Fourier cuáles son las diferencias entre la señal del violin y de la trompeta.\n",
        "# Qué hace que siendo la misma nota (misma frecuencia)el tiembre del violin de la trompeta sean tan diferentes...\n"
      ],
      "metadata": {
        "id": "H2kFO8EVXN93"
      },
      "execution_count": null,
      "outputs": []
    },
    {
      "cell_type": "code",
      "source": [],
      "metadata": {
        "id": "i7Q_NjJ6auMr"
      },
      "execution_count": null,
      "outputs": []
    }
  ]
}