{
  "cells": [
    {
      "cell_type": "markdown",
      "metadata": {
        "id": "GzYes-TBF1c6"
      },
      "source": [
        "PYTHON: INTRODUCCION (O REPASO)"
      ]
    },
    {
      "cell_type": "markdown",
      "metadata": {
        "id": "hMcirD3jFWtm"
      },
      "source": [
        "Tutoriales Python:\n",
        "\n",
        "learnpython.org\n",
        "\n",
        "https://www.geeksforgeeks.org/python-programming-language/?ref=lbp\n",
        "\n",
        "https://argentinaenpython.com/quiero-aprender-python/TutorialPython3.pdf\n",
        "\n",
        "https://www.youtube.com/playlist?list=PLU8oAlHdN5BlvPxziopYZRd55pdqFwkeS\n",
        "\n",
        "https://www.freecodecamp.org/learn/scientific-computing-with-python/#python-for-everybody\n",
        "\n"
      ]
    },
    {
      "cell_type": "markdown",
      "metadata": {
        "id": "N914VLVOFx5D"
      },
      "source": [
        "IMPRIMIR EN LA TERMINAL:"
      ]
    },
    {
      "cell_type": "code",
      "execution_count": null,
      "metadata": {
        "colab": {
          "base_uri": "https://localhost:8080/"
        },
        "id": "CQr7a6LzGsO3",
        "outputId": "204a873e-0114-4ebd-d29e-525d3e7c5367"
      },
      "outputs": [
        {
          "name": "stdout",
          "output_type": "stream",
          "text": [
            "hola mundo\n"
          ]
        }
      ],
      "source": [
        "#primer codigo: \"hola mundo\"\n",
        "print(\"hola mundo\")\n"
      ]
    },
    {
      "cell_type": "markdown",
      "metadata": {
        "id": "jSgIcHQZGxtd"
      },
      "source": [
        "TIPOS DE VARIABLES:"
      ]
    },
    {
      "cell_type": "code",
      "execution_count": null,
      "metadata": {
        "colab": {
          "base_uri": "https://localhost:8080/"
        },
        "id": "CxVuKuoPGuba",
        "outputId": "aa8359f1-d13b-4e53-c96e-8ce335ce2f56"
      },
      "outputs": [
        {
          "name": "stdout",
          "output_type": "stream",
          "text": [
            "variable: 3\n",
            "tipo de variable:  <class 'int'>\n"
          ]
        }
      ],
      "source": [
        "#enteras\n",
        "mi_ent=3\n",
        "\n",
        "#flotates\n",
        "mi_float=4.0\n",
        "\n",
        "#boleanas\n",
        "mi_bol=True\n",
        "\n",
        "#caracteres\n",
        "mi_car = \"hola\"\n",
        "mi_car2='hola2'\n",
        "\n",
        "print(f\"variable: {mi_ent}\")\n",
        "print(\"tipo de variable: \", type(mi_ent))\n",
        " #mini ejercicio: impriman las otras variables y su tipo\n",
        "print(f\"variable: {mi_float}\")\n",
        "print(\"tipo de variable: \", type(mi_float))\n",
        "print(f\"variable: {mi_bol}\")\n",
        "print(\"tipo de variable: \", type(mi_bol))\n",
        "print(f\"variable: {mi_car}\")\n",
        "print(\"tipo de variable: \", type(mi_car))\n",
        "print(f\"variable: {mi_car2}\")\n",
        "print(\"tipo de variable: \", type(mi_car2))"
      ]
    },
    {
      "cell_type": "markdown",
      "metadata": {
        "id": "I5pvAC9aHaZS"
      },
      "source": [
        "OPERACIONES MATEMÁTICAS BÁSICAS"
      ]
    },
    {
      "cell_type": "code",
      "execution_count": null,
      "metadata": {
        "id": "Xh-gb4u6G8de"
      },
      "outputs": [],
      "source": [
        "#operaciones basicas entre variables\n",
        "suma = mi_ent + mi_float\n",
        "#print(suma)\n",
        "\n",
        "suma2= mi_car + \" \" + mi_car2\n",
        "#print(suma2)\n",
        "\n",
        "#\tNO FUNCIONA\n",
        "#suma_que_no_funciona = mi_ent + mi_car\n",
        "#print(suma_que_no_funciona)\n",
        "\n",
        "#mini ejercicio: descomenten lo anterior y entiendan cuál es el error"
      ]
    },
    {
      "cell_type": "markdown",
      "metadata": {
        "id": "K9bsQcGpIPKr"
      },
      "source": [
        "LISTAS y APPEND"
      ]
    },
    {
      "cell_type": "code",
      "execution_count": null,
      "metadata": {
        "colab": {
          "base_uri": "https://localhost:8080/"
        },
        "id": "jAyQouiBHjdU",
        "outputId": "84cc4e34-45ac-434a-81f9-0e6e31172219"
      },
      "outputs": [
        {
          "name": "stdout",
          "output_type": "stream",
          "text": [
            "mi lista:  [27.0, 12, 45, 5.2, 17, 22]\n",
            "primer elemento: 27.0\n",
            "primer elemento:45\n",
            "mi_lista2: [12, 34, 56, 67, 87, 65, 45.0]\n",
            "mi_lista3: [12, 34.0, 'gato', True, 34.56]\n",
            "suma de mi_lista2 y mi_lista3: [12, 34, 56, 67, 87, 65, 45.0, 12, 34.0, 'gato', True, 34.56]\n",
            "mi_lista2 x 2: [12, 34, 56, 67, 87, 65, 45.0, 12, 34, 56, 67, 87, 65, 45.0, 12, 34, 56, 67, 87, 65, 45.0]\n"
          ]
        }
      ],
      "source": [
        "#listas\n",
        "#defino lista vacia:\n",
        "mi_lista=[]\n",
        "#print(mi_lista)\n",
        "\n",
        "#le agrego un elemento\n",
        "mi_lista.append(27.0)\n",
        "#print(mi_lista)\n",
        "\n",
        "#le agrego otro elemento\n",
        "mi_lista.append(12)\n",
        "#print(mi_lista)\n",
        "\n",
        "#le agrego varios elementos\n",
        "mi_lista.append(45)\n",
        "mi_lista.append(5.2)\n",
        "mi_lista.append(17)\n",
        "mi_lista.append(22)\n",
        "\n",
        "print(f\"mi lista: \", mi_lista)\n",
        "\n",
        "#imprimo el primer elemento de la lista\n",
        "print(f\"primer elemento: {mi_lista[0]}\")\n",
        "\n",
        "#mini ejercicio: imprima el tercer elemento\n",
        "print(f\"primer elemento:{mi_lista[2]}\")\n",
        "\n",
        "#otra forma de definir listas:\n",
        "mi_lista2=[12,34,56,67,87,65,45.0]\n",
        "print(f\"mi_lista2: {mi_lista2}\")\n",
        "\n",
        "#las listas pueden tener todo tipo de variables\n",
        "mi_lista3=[12, 34.0, \"gato\", True, 34.56]\n",
        "print(f\"mi_lista3: {mi_lista3}\")\n",
        "\n",
        "#mini ejercicio: qué pasa si sumo mi_lista2 con mi_lista3? imprima el resultado\n",
        "mi_suma=mi_lista2 + mi_lista3\n",
        "print(f\"suma de mi_lista2 y mi_lista3: {mi_suma}\")\n",
        "\n",
        "#mini ejercicio: qué pasa si multiplico mi_lista2 por 3\n",
        "prod_lista= mi_lista2*3\n",
        "print(f\"mi_lista2 x 2: {prod_lista}\")\n",
        "\n",
        "#mini ejercicio: qué pasa si multiplico mi_lista por mi_lista2?\n",
        "#prod_listas = mi_lista*mi_lista2"
      ]
    },
    {
      "cell_type": "markdown",
      "metadata": {
        "id": "7uNtMkzCKwiY"
      },
      "source": [
        "OPERADORES ARITMÉTICOS BÁSICOS"
      ]
    },
    {
      "cell_type": "code",
      "execution_count": null,
      "metadata": {
        "colab": {
          "base_uri": "https://localhost:8080/"
        },
        "id": "sybK7-0yIyDJ",
        "outputId": "84e0f127-fc43-459a-f684-1308d45bcde7"
      },
      "outputs": [
        {
          "name": "stdout",
          "output_type": "stream",
          "text": [
            "1.0\n",
            "0.0\n"
          ]
        }
      ],
      "source": [
        "#operadores aritmeticos basicos\n",
        "a=12.5\n",
        "b=3\n",
        "c=15\n",
        "#suma\n",
        "suma=a+b\n",
        "#resta\n",
        "resta=a-b\n",
        "#producto\n",
        "a*b\n",
        "#division\n",
        "a/b\n",
        "#potencia\n",
        "a**b\n",
        "#modulo\n",
        "a%b\n",
        "\n",
        "#mini ejercicio: imprima los resultados de las operaciones anteriores\n",
        "\n",
        "# errores numéricos\n",
        "suma1=1+(1.5e56-1.5e56)\n",
        "suma2=(1+1.5e56)-1.5e56\n",
        "print(suma1)\n",
        "print(suma2)"
      ]
    },
    {
      "cell_type": "markdown",
      "metadata": {
        "id": "AyLJKcIri9l0"
      },
      "source": [
        "OPERADORES BÁSICOS DE COMPARACIÓN"
      ]
    },
    {
      "cell_type": "code",
      "execution_count": null,
      "metadata": {
        "colab": {
          "base_uri": "https://localhost:8080/"
        },
        "id": "faCtntPnK1al",
        "outputId": "60f51ae3-fd7a-444f-b01d-5403f2ccb117"
      },
      "outputs": [
        {
          "data": {
            "text/plain": [
              "False"
            ]
          },
          "execution_count": 12,
          "metadata": {},
          "output_type": "execute_result"
        }
      ],
      "source": [
        "#operadores de comparacion basicos\n",
        "a=12.5\n",
        "b=3\n",
        "c=15\n",
        "#igual que\n",
        "a==b\n",
        "#diferente de\n",
        "a!=b\n",
        "#mayor que\n",
        "a>b\n",
        "#menor que\n",
        "a<b\n",
        "#mayor o igual\n",
        "a>=b\n",
        "#menor o igual\n",
        "a<=b\n",
        "\n",
        "#mini ejercicio: imprima el resultado de las comparaciones anteriores. qué tipo de variable es?\n",
        "\n",
        "\n",
        "#otros operadores de comparación: https://www.tutorialspoint.com/python/python_basic_operators.htm"
      ]
    },
    {
      "cell_type": "markdown",
      "metadata": {
        "id": "J4jl9fVRkiMx"
      },
      "source": [
        "CICLOS FOR"
      ]
    },
    {
      "cell_type": "code",
      "execution_count": null,
      "metadata": {
        "colab": {
          "base_uri": "https://localhost:8080/"
        },
        "id": "BvqLSNKOklNc",
        "outputId": "d7a8ddbc-7450-4d19-96cc-9cd5d9d1d814"
      },
      "outputs": [
        {
          "name": "stdout",
          "output_type": "stream",
          "text": [
            "i: 0\n",
            "i: 1\n",
            "i: 2\n",
            "i: 3\n",
            "i: 4\n",
            "i: 5\n",
            "i: 6\n",
            "i: 7\n",
            "i: 8\n",
            "i: 9\n",
            "elemento: 2\n",
            "elemento: 3\n",
            "elemento: 4\n",
            "elemento: 5\n",
            "elemento: 6.0\n",
            "elemento: gato\n"
          ]
        }
      ],
      "source": [
        "#ciclos con la función range\n",
        "for i in range(10):\n",
        "  print(f\"i: {i}\")\n",
        "\n",
        "#mini ejercicio: mire la documentación de range (por ejemplo acá: https://www.w3schools.com/python/ref_func_range.asp)\n",
        "# y haga que i vaya de -10 a 10 en pasos de 2.\n",
        "\n",
        "\n",
        "#ciclos recorriendo listas o arreglos\n",
        "\n",
        "lista4=[2,3,4,5,6.0,\"gato\"]\n",
        "for elemento in lista4:\n",
        "  print(f\"elemento: {elemento}\")\n",
        "\n"
      ]
    },
    {
      "cell_type": "markdown",
      "metadata": {
        "id": "cjtquhiSmVPG"
      },
      "source": [
        "NOTA IMPORTANTE!!! LA INDENTACIÓN SE UTILIZA PARA INDICAR QUÉ INSTRUCCIONES ESTÁN DENTRO DEL CICLO (O DENTRO DEL CONDICIONAL, O DENTRO DE LA FUNCION)...\n"
      ]
    },
    {
      "cell_type": "code",
      "execution_count": null,
      "metadata": {
        "colab": {
          "base_uri": "https://localhost:8080/"
        },
        "id": "IhZo-NqkmiP7",
        "outputId": "14f698ff-9166-490c-b66c-926daa766927"
      },
      "outputs": [
        {
          "name": "stdout",
          "output_type": "stream",
          "text": [
            "j: 0\n",
            "j+2: 2\n",
            "j: 1\n",
            "j+2: 3\n",
            "j: 2\n",
            "j+2: 4\n",
            "k: 0\n",
            "k: 1\n",
            "k: 2\n",
            "k+2: 4\n"
          ]
        }
      ],
      "source": [
        "# mini ejercicio: pruebe los dos ciclos que están a continuación. Cuál es la diferencia?\n",
        "for j in range(3):\n",
        "  print(f\"j: {j}\")\n",
        "  print(f\"j+2: {j+2}\") #nota: cuidado con el copy paste!!!!\n",
        "\n",
        "for k in range(3):\n",
        "  print(f\"k: {k}\")\n",
        "print(f\"k+2: {k+2}\")"
      ]
    },
    {
      "cell_type": "markdown",
      "metadata": {
        "id": "c658PPBEjjC1"
      },
      "source": [
        "ARREGLOS DE NUMPY"
      ]
    },
    {
      "cell_type": "code",
      "execution_count": null,
      "metadata": {
        "colab": {
          "base_uri": "https://localhost:8080/"
        },
        "id": "hLFyyMipjCTv",
        "outputId": "47e94fa1-135e-408a-d40b-09fbc28bd07e"
      },
      "outputs": [
        {
          "name": "stdout",
          "output_type": "stream",
          "text": [
            "[0. 0. 0. 0. 0. 0. 0. 0. 0. 0.]\n",
            "[ -8.  -1.   0.   1.   8.  27.  64. 125. 216. 343.]\n"
          ]
        }
      ],
      "source": [
        "\n",
        "#numpy arrays\n",
        "\n",
        "#import la librería de numpy para poder usar arreglos\n",
        "import numpy as np\n",
        "\n",
        "#genero un arreglo de ceros de 10 elementos:\n",
        "arreglo=np.zeros(10)\n",
        "print(arreglo)\n",
        "\n",
        "#remplazo los ceros del arreglo por otro valor usando un ciclo (ver la celda de más adelante)\n",
        "for i in range(10):\n",
        "\tarreglo[i]=(i-2)**3\n",
        "print(arreglo)\n",
        "\n",
        "\n",
        "#mini ejercicio: multiplique el arreglo por 3 e imprima el resultado. Qué diferencia hay con las listas?"
      ]
    },
    {
      "cell_type": "markdown",
      "metadata": {
        "id": "EnyWAtI_r3-L"
      },
      "source": [
        "SLICING DE ARREGLOS DE NUMPY"
      ]
    },
    {
      "cell_type": "code",
      "execution_count": null,
      "metadata": {
        "colab": {
          "base_uri": "https://localhost:8080/"
        },
        "id": "ViEY8SI2r70D",
        "outputId": "aeeabb29-5b26-44bb-a091-f6927100c727"
      },
      "outputs": [
        {
          "name": "stdout",
          "output_type": "stream",
          "text": [
            "todo [ -8.  -1.   0.   1.   8.  27.  64. 125. 216. 343.]\n",
            "[1:3] [-1.  0.]\n",
            "[:3] [-8. -1.  0.]\n",
            "[3:] [  1.   8.  27.  64. 125. 216. 343.]\n",
            "[-3:] [125. 216. 343.]\n",
            "[3:-3] [ 1.  8. 27. 64.]\n",
            "[3:-3: 2] [ 1. 27.]\n"
          ]
        }
      ],
      "source": [
        "print(f\"todo {arreglo}\")\n",
        "print(f\"[1:3] {arreglo[1:3]}\")\n",
        "print(f\"[:3] {arreglo[:3]}\")\n",
        "print(f\"[3:] {arreglo[3:]}\")\n",
        "print(f\"[-3:] {arreglo[-3:]}\")\n",
        "print(f\"[3:-3] {arreglo[3: -3]}\")\n",
        "print(f\"[3:-3: 2] {arreglo[3: -3: 2]}\")"
      ]
    },
    {
      "cell_type": "markdown",
      "metadata": {
        "id": "g5NvjoTwnzam"
      },
      "source": [
        "CONDICIONALES"
      ]
    },
    {
      "cell_type": "code",
      "execution_count": null,
      "metadata": {
        "colab": {
          "base_uri": "https://localhost:8080/"
        },
        "id": "lyy0hW69j_T-",
        "outputId": "2b950766-8140-4e7b-fa09-01fe1dd23601"
      },
      "outputs": [
        {
          "name": "stdout",
          "output_type": "stream",
          "text": [
            "25\n",
            "17\n",
            "13\n",
            "verdadero\n",
            "falso\n"
          ]
        }
      ],
      "source": [
        "var1=17\n",
        "var2=25\n",
        "var3=13\n",
        "lista_var=[12, 45, 17, 13]\n",
        "\n",
        "#if else\n",
        "if(var1>=var2):\n",
        "\tprint(var1)\n",
        "else:\n",
        "\tprint(var2)\n",
        "\n",
        "#if elif else\n",
        "if(var1>=var3):\n",
        "\tprint(var1)\n",
        "elif(var2>=var3):\n",
        "\tprint(var2)\n",
        "else:\n",
        "\tprint(var3)\n",
        "\n",
        "\n",
        "# or y and\n",
        "\n",
        "if(var1>var3 and var2>var3):\n",
        "\tprint(var3)\n",
        "\n",
        "if(var1<var3 or var2<var3):\n",
        "\tprint(var3)\n",
        "\n",
        "\n",
        "# in y not\n",
        "if(var1 in lista_var):\n",
        "\tprint(\"verdadero\")\n",
        "\n",
        "\n",
        "if(var2 not in lista_var):\n",
        "\tprint(\"falso\")\n"
      ]
    },
    {
      "cell_type": "markdown",
      "metadata": {
        "id": "tHWwqHSNob6i"
      },
      "source": [
        "WHILE"
      ]
    },
    {
      "cell_type": "code",
      "execution_count": null,
      "metadata": {
        "colab": {
          "base_uri": "https://localhost:8080/"
        },
        "id": "foUBkM3golWx",
        "outputId": "734dfe72-02c5-4171-f1fb-646ad5319070"
      },
      "outputs": [
        {
          "name": "stdout",
          "output_type": "stream",
          "text": [
            "10\n",
            "25\n",
            "40\n",
            "55\n",
            "70\n",
            "85\n",
            "100\n",
            "115\n"
          ]
        }
      ],
      "source": [
        "#while\n",
        "\n",
        "j=10\n",
        "\n",
        "while(j<120):\n",
        "\tprint(j)\n",
        "\t#ojo:\n",
        "\tj+=15"
      ]
    },
    {
      "cell_type": "markdown",
      "metadata": {
        "id": "Yv_3W0Wpota0"
      },
      "source": [
        "FUNCIONES"
      ]
    },
    {
      "cell_type": "code",
      "execution_count": null,
      "metadata": {
        "colab": {
          "base_uri": "https://localhost:8080/"
        },
        "id": "QNIzW2N-ovU9",
        "outputId": "d5482cd3-d769-4006-c075-a845769df43e"
      },
      "outputs": [
        {
          "name": "stdout",
          "output_type": "stream",
          "text": [
            "parametro1=  3\n",
            "resultado 16\n"
          ]
        }
      ],
      "source": [
        "#defino una función que llamo mi_funcion. Uso la indentación para indicar qué está dentro de mi función\n",
        "def mi_funcion(parametro1, parametro2):\n",
        "  #la función imprime el parametro1\n",
        "\tprint(f\"parametro1=  {parametro1}\")\n",
        "  #la función retorna el parametro2\n",
        "\treturn parametro2**2\n",
        "\n",
        "#llamo mi mi funcion con los valores 3 y 4 y almaceno lo que retorna mi_funcion en la variable resultado\n",
        "resultado=mi_funcion(3,4)\n",
        "print(f\"resultado {resultado}\")\n",
        "\n",
        "#mini ejercicio: prueben qué pasa si quieren imprimir la variable parametro2 por fuera de la función"
      ]
    },
    {
      "cell_type": "markdown",
      "metadata": {
        "id": "9MBvGG6GuMMO"
      },
      "source": [
        "++++++++++++++++++++++++++++++++++++++++++ EJERCICIOS\n",
        " ++++++++++++++++++++++++++++++++++++++++++"
      ]
    },
    {
      "cell_type": "markdown",
      "metadata": {
        "id": "1jkBGl2buuan"
      },
      "source": [
        "EJERCICIO 1:"
      ]
    },
    {
      "cell_type": "code",
      "execution_count": 1,
      "metadata": {
        "colab": {
          "base_uri": "https://localhost:8080/"
        },
        "id": "WQxklqyOpaSK",
        "outputId": "cfebf253-5f09-4587-df03-b252e2690829"
      },
      "outputs": [
        {
          "name": "stdout",
          "output_type": "stream",
          "text": [
            "ejercicio 1\n",
            "la primera tiene un valor de 29 y la segunda variable tiene un valor de 3.0\n",
            "El resultado es 0.10344827586206896\n",
            "[101, 26, 'rio', 'gato', 17, 45, 28]\n",
            "101\n",
            "26\n",
            "rio\n",
            "gato\n",
            "17\n",
            "45\n",
            "28\n",
            "257\n",
            "285\n",
            "583\n",
            "gato\n",
            "la longitud de la lista es 10\n"
          ]
        }
      ],
      "source": [
        "#ejercicio 1\n",
        "\n",
        "print(\"ejercicio 1\")\n",
        "\n",
        "#a) Inicializar dos variables globales (con valores escogidos por ustedes), una entera y otra flotante.\\\\\n",
        "\n",
        "a=29\n",
        "b=3.0\n",
        "\n",
        "#b) Imprimir los valores de las variables en un mensaje: #\n",
        "#\"la primera tiene un valor de XX y la segunda variable tiene un valor de YY\"\n",
        "\n",
        "print(f\"la primera tiene un valor de {a} y la segunda variable tiene un valor de {b}\")\n",
        "\n",
        "#c) Calcular el valor de la segunda variable dividida por la primera e imprimir : \"El resultado es ZZ\"\n",
        "\n",
        "z=b/a\n",
        "\n",
        "print(f\"El resultado es {z}\")\n",
        "\n",
        "#d) Crear una lista con los elementos: 101, 26, rio, gato, 17, 45 y 28 e imprimirla.\n",
        "\n",
        "lista=[101, 26, 'rio', 'gato', 17, 45, 28]\n",
        "\n",
        "print(lista)\n",
        "\n",
        "#e) Agregarle a esa lista los elementos: 257, 285, 583\n",
        "\n",
        "lista.append(257)\n",
        "lista.append(285)\n",
        "lista.append(583)\n",
        "\n",
        "#f) Hacer un ciclo para recorrer dicha lista e imprimir sus elementos.\n",
        "\n",
        "for elemento_en_lista in lista:\n",
        "  print(elemento_en_lista)\n",
        "\n",
        "#g) imprimir el cuarto elemento de la lista.\n",
        "\n",
        "print(lista[3])\n",
        "\n",
        "#h) Calcular la longitud de la lista e imprimir: \"la longitud de la lista es XX\" puede usar le función len()\n",
        "\n",
        "longitud_lista=len(lista)\n",
        "\n",
        "print(f\"la longitud de la lista es {longitud_lista}\")\n"
      ]
    },
    {
      "cell_type": "markdown",
      "metadata": {
        "id": "bu0z0nRLu64_"
      },
      "source": [
        "EJERCICIO 2:"
      ]
    },
    {
      "cell_type": "code",
      "execution_count": 15,
      "metadata": {
        "colab": {
          "base_uri": "https://localhost:8080/"
        },
        "id": "KWQfl16quw8o",
        "outputId": "0ec7ced5-84df-4fec-8dc4-6ce512287f59"
      },
      "outputs": [
        {
          "name": "stdout",
          "output_type": "stream",
          "text": [
            "arreglo x: [426 489 713 896 368 532 362 471 127 186 590 576 590 238 498 569 810  87\n",
            "  80 847 751  32 490 525 173  84 163 321 439 722 852 736 891 423 488 864\n",
            " 170 898 346 116 320 663 797 831 892 313 721 488 802 886 707  11 247 365\n",
            " 118 299 263 521 558 587 138 346 540  59  47 612 290 834 783 498 164 298\n",
            " 330 736  46 856 487 442 458 832 338 188 854 756 423 436 862 279 877 620\n",
            " 363 297 749  13 212 372 718 838 458 808]\n",
            "489\n",
            "713\n"
          ]
        }
      ],
      "source": [
        "# Complete el siguiente código para que:\n",
        "# recorra el arreglo `x`\n",
        "# imprima los números impares\n",
        "# y pare de imprimir al encontrar un número mayor a 700\n",
        "\n",
        "import numpy as np\n",
        "\n",
        "#genero un arreglo de número aleatorios:\n",
        "x=np.int_(np.random.random(100)*900)\n",
        "print(f\"arreglo x: {x}\")\n",
        "\n",
        "for i in x:\n",
        "    if(i%2 != 0):\n",
        "        print(i)\n",
        "    if(i > 700):\n",
        "        break\n",
        "\n"
      ]
    },
    {
      "cell_type": "markdown",
      "metadata": {
        "id": "jWFl8rsZvKOT"
      },
      "source": [
        "EJERCICIO 3:"
      ]
    },
    {
      "cell_type": "code",
      "execution_count": 11,
      "metadata": {
        "colab": {
          "base_uri": "https://localhost:8080/"
        },
        "id": "GRWQWWDqvEf5",
        "outputId": "163a60c2-6cfb-414f-85ac-19131daf78b3"
      },
      "outputs": [
        {
          "name": "stdout",
          "output_type": "stream",
          "text": [
            "ejercicio 3\n"
          ]
        },
        {
          "data": {
            "text/plain": [
              "180"
            ]
          },
          "execution_count": 11,
          "metadata": {},
          "output_type": "execute_result"
        }
      ],
      "source": [
        "#ejercicio 3\n",
        "print(\"ejercicio 3\")\n",
        "\n",
        "#Haga una función llamada multiplicación\n",
        "#que reciba como argumentos dos variables a y b y retorne a*b.\n",
        "#Imprima lo que retorna la función para a=10 y b=18\n",
        "\n",
        "def multiplicacion(a,b):\n",
        "    return a*b\n",
        "\n",
        "a=10\n",
        "b=18\n",
        "multiplicacion(a,b)\n",
        "\n"
      ]
    },
    {
      "cell_type": "markdown",
      "metadata": {
        "id": "Lyvoe9jfv08k"
      },
      "source": [
        "EJERCICIO 4"
      ]
    },
    {
      "cell_type": "code",
      "execution_count": 17,
      "metadata": {
        "colab": {
          "base_uri": "https://localhost:8080/"
        },
        "id": "sOk7d-7evMIw",
        "outputId": "ae3c3bb8-aee0-402f-c93f-33e9d853dc8b"
      },
      "outputs": [
        {
          "name": "stdout",
          "output_type": "stream",
          "text": [
            "ejercicio 4\n",
            "El valor mínimo de la lista x debería ser 11, y según la función np.min, es 11\n",
            "¡El código funcionó!, 11 = 11\n"
          ]
        }
      ],
      "source": [
        "#ejercicio 4\n",
        "print(\"ejercicio 4\")\n",
        "# Complete el siguiente código para que:\n",
        "# recorra la lista x del ejercicio 2 y encuentre el mínimo de los elementos de la lista.\n",
        "#Compare su resultado con el obtenido por np.min e imprima un mensajito con ambos valores.\n",
        "\n",
        "min=999\n",
        "epsilon = 1e-10\n",
        "\n",
        "for i in x:\n",
        "    if (i < min):\n",
        "        min = i\n",
        "\n",
        "print(f\"El valor mínimo de la lista x debería ser {min}, y según la función np.min, es {np.min(x)}\")\n",
        "print(f\"¡El código funcionó!, {min} = {np.min(x)}\" if np.abs(min - np.min(x)) < epsilon else \"El código no funcionó\")"
      ]
    },
    {
      "cell_type": "markdown",
      "metadata": {
        "id": "mHpcqMRNv7jv"
      },
      "source": [
        "EJERCICIO 5"
      ]
    },
    {
      "cell_type": "code",
      "execution_count": 18,
      "metadata": {
        "colab": {
          "base_uri": "https://localhost:8080/"
        },
        "id": "OBP4y_u1v6kz",
        "outputId": "1ece344a-6351-47bd-f7d6-f4d75df96dbc"
      },
      "outputs": [
        {
          "name": "stdout",
          "output_type": "stream",
          "text": [
            "ejercicio 5\n",
            "arreglo x:  [  2 302 334  56 157 659 814 445   6 572 848 689 116 771  55 568  22 660\n",
            "  11 895 165 891 873 224 171 527 639   9  25 123 873 181 199 452 857 368\n",
            " 576 567 183 113 829 114 518  89 100 332 206 283  95 177 704 296  85 157\n",
            "  48 282  26 135 765 487 698 234 810 640 718 659 530 475 217 545 223  53\n",
            " 410 497 319 164  43 182 289 359 582 881 216 658 817 118 848 765 335 522\n",
            " 609 482 669 379  85  39 735 714 241 544]\n"
          ]
        }
      ],
      "source": [
        "#ejercicio 5\n",
        "print(\"ejercicio 5\")\n",
        "#  sin usar ciclos, sume los 10 primeros elementos del arreglo x a los 10 últimos elementos del arreglo x. Imprima el arreglo resultante.\n",
        "import numpy as np\n",
        "\n",
        "#genero un arreglo de número aleatorios:\n",
        "x=np.int_(np.random.random(100)*900)\n",
        "print(\"arreglo x: \", x)\n",
        "\n",
        "\n"
      ]
    },
    {
      "cell_type": "code",
      "execution_count": 49,
      "metadata": {
        "id": "hkPMFa3mwHQ9"
      },
      "outputs": [
        {
          "name": "stdout",
          "output_type": "stream",
          "text": [
            "Los primeros diez números del arreglo x son: [  2 302 334  56 157 659 814 445   6 572]\n",
            "Los últimos diez números del arreglo x son: [609 482 669 379  85  39 735 714 241 544]\n",
            "La suma resulta en el siguiente arreglo: [ 611  784 1003  435  242  698 1549 1159  247 1116]\n"
          ]
        }
      ],
      "source": [
        "print(f\"Los primeros diez números del arreglo x son: {x[0:10]}\")\n",
        "print(f\"Los últimos diez números del arreglo x son: {x[90:100]}\")\n",
        "print(f\"La suma resulta en el siguiente arreglo: {x[0:10]+x[90:100]}\")"
      ]
    }
  ],
  "metadata": {
    "colab": {
      "provenance": []
    },
    "kernelspec": {
      "display_name": ".venv (3.12.11)",
      "language": "python",
      "name": "python3"
    },
    "language_info": {
      "codemirror_mode": {
        "name": "ipython",
        "version": 3
      },
      "file_extension": ".py",
      "mimetype": "text/x-python",
      "name": "python",
      "nbconvert_exporter": "python",
      "pygments_lexer": "ipython3",
      "version": "3.12.11"
    }
  },
  "nbformat": 4,
  "nbformat_minor": 0
}
