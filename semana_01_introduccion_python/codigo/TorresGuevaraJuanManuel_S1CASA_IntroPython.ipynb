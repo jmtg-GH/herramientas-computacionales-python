{
  "cells": [
    {
      "cell_type": "markdown",
      "metadata": {
        "id": "GzYes-TBF1c6"
      },
      "source": [
        "PYTHON: INTRODUCCION (O REPASO)"
      ]
    },
    {
      "cell_type": "markdown",
      "metadata": {
        "id": "hMcirD3jFWtm"
      },
      "source": [
        "Tutoriales Python:\n",
        "\n",
        "learnpython.org\n",
        "\n",
        "https://www.geeksforgeeks.org/python-programming-language/?ref=lbp\n",
        "\n",
        "https://argentinaenpython.com/quiero-aprender-python/TutorialPython3.pdf\n",
        "\n",
        "https://www.youtube.com/playlist?list=PLU8oAlHdN5BlvPxziopYZRd55pdqFwkeS\n",
        "\n",
        "https://www.freecodecamp.org/learn/scientific-computing-with-python/#python-for-everybody\n",
        "\n"
      ]
    },
    {
      "cell_type": "markdown",
      "metadata": {
        "id": "N914VLVOFx5D"
      },
      "source": [
        "IMPRIMIR EN LA TERMINAL:"
      ]
    },
    {
      "cell_type": "code",
      "execution_count": null,
      "metadata": {
        "colab": {
          "base_uri": "https://localhost:8080/"
        },
        "id": "CQr7a6LzGsO3",
        "outputId": "204a873e-0114-4ebd-d29e-525d3e7c5367"
      },
      "outputs": [
        {
          "name": "stdout",
          "output_type": "stream",
          "text": [
            "hola mundo\n"
          ]
        }
      ],
      "source": [
        "#primer codigo: \"hola mundo\"\n",
        "print(\"hola mundo\")\n"
      ]
    },
    {
      "cell_type": "markdown",
      "metadata": {
        "id": "jSgIcHQZGxtd"
      },
      "source": [
        "TIPOS DE VARIABLES:"
      ]
    },
    {
      "cell_type": "code",
      "execution_count": null,
      "metadata": {
        "colab": {
          "base_uri": "https://localhost:8080/"
        },
        "id": "CxVuKuoPGuba",
        "outputId": "aa8359f1-d13b-4e53-c96e-8ce335ce2f56"
      },
      "outputs": [
        {
          "name": "stdout",
          "output_type": "stream",
          "text": [
            "variable: 3\n",
            "tipo de variable:  <class 'int'>\n"
          ]
        }
      ],
      "source": [
        "#enteras\n",
        "mi_ent=3\n",
        "\n",
        "#flotates\n",
        "mi_float=4.0\n",
        "\n",
        "#boleanas\n",
        "mi_bol=True\n",
        "\n",
        "#caracteres\n",
        "mi_car = \"hola\"\n",
        "mi_car2='hola2'\n",
        "\n",
        "print(f\"variable: {mi_ent}\")\n",
        "print(\"tipo de variable: \", type(mi_ent))\n",
        " #mini ejercicio: impriman las otras variables y su tipo\n",
        "print(f\"variable: {mi_float}\")\n",
        "print(\"tipo de variable: \", type(mi_float))\n",
        "print(f\"variable: {mi_bol}\")\n",
        "print(\"tipo de variable: \", type(mi_bol))\n",
        "print(f\"variable: {mi_car}\")\n",
        "print(\"tipo de variable: \", type(mi_car))\n",
        "print(f\"variable: {mi_car2}\")\n",
        "print(\"tipo de variable: \", type(mi_car2))"
      ]
    },
    {
      "cell_type": "markdown",
      "metadata": {
        "id": "I5pvAC9aHaZS"
      },
      "source": [
        "OPERACIONES MATEMÁTICAS BÁSICAS"
      ]
    },
    {
      "cell_type": "code",
      "execution_count": null,
      "metadata": {
        "id": "Xh-gb4u6G8de"
      },
      "outputs": [],
      "source": [
        "#operaciones basicas entre variables\n",
        "suma = mi_ent + mi_float\n",
        "#print(suma)\n",
        "\n",
        "suma2= mi_car + \" \" + mi_car2\n",
        "#print(suma2)\n",
        "\n",
        "#\tNO FUNCIONA\n",
        "#suma_que_no_funciona = mi_ent + mi_car\n",
        "#print(suma_que_no_funciona)\n",
        "\n",
        "#mini ejercicio: descomenten lo anterior y entiendan cuál es el error"
      ]
    },
    {
      "cell_type": "markdown",
      "metadata": {
        "id": "K9bsQcGpIPKr"
      },
      "source": [
        "LISTAS y APPEND"
      ]
    },
    {
      "cell_type": "code",
      "execution_count": null,
      "metadata": {
        "colab": {
          "base_uri": "https://localhost:8080/"
        },
        "id": "jAyQouiBHjdU",
        "outputId": "84cc4e34-45ac-434a-81f9-0e6e31172219"
      },
      "outputs": [
        {
          "name": "stdout",
          "output_type": "stream",
          "text": [
            "mi lista:  [27.0, 12, 45, 5.2, 17, 22]\n",
            "primer elemento: 27.0\n",
            "primer elemento:45\n",
            "mi_lista2: [12, 34, 56, 67, 87, 65, 45.0]\n",
            "mi_lista3: [12, 34.0, 'gato', True, 34.56]\n",
            "suma de mi_lista2 y mi_lista3: [12, 34, 56, 67, 87, 65, 45.0, 12, 34.0, 'gato', True, 34.56]\n",
            "mi_lista2 x 2: [12, 34, 56, 67, 87, 65, 45.0, 12, 34, 56, 67, 87, 65, 45.0, 12, 34, 56, 67, 87, 65, 45.0]\n"
          ]
        }
      ],
      "source": [
        "#listas\n",
        "#defino lista vacia:\n",
        "mi_lista=[]\n",
        "#print(mi_lista)\n",
        "\n",
        "#le agrego un elemento\n",
        "mi_lista.append(27.0)\n",
        "#print(mi_lista)\n",
        "\n",
        "#le agrego otro elemento\n",
        "mi_lista.append(12)\n",
        "#print(mi_lista)\n",
        "\n",
        "#le agrego varios elementos\n",
        "mi_lista.append(45)\n",
        "mi_lista.append(5.2)\n",
        "mi_lista.append(17)\n",
        "mi_lista.append(22)\n",
        "\n",
        "print(f\"mi lista: \", mi_lista)\n",
        "\n",
        "#imprimo el primer elemento de la lista\n",
        "print(f\"primer elemento: {mi_lista[0]}\")\n",
        "\n",
        "#mini ejercicio: imprima el tercer elemento\n",
        "print(f\"primer elemento:{mi_lista[2]}\")\n",
        "\n",
        "#otra forma de definir listas:\n",
        "mi_lista2=[12,34,56,67,87,65,45.0]\n",
        "print(f\"mi_lista2: {mi_lista2}\")\n",
        "\n",
        "#las listas pueden tener todo tipo de variables\n",
        "mi_lista3=[12, 34.0, \"gato\", True, 34.56]\n",
        "print(f\"mi_lista3: {mi_lista3}\")\n",
        "\n",
        "#mini ejercicio: qué pasa si sumo mi_lista2 con mi_lista3? imprima el resultado\n",
        "mi_suma=mi_lista2 + mi_lista3\n",
        "print(f\"suma de mi_lista2 y mi_lista3: {mi_suma}\")\n",
        "\n",
        "#mini ejercicio: qué pasa si multiplico mi_lista2 por 3\n",
        "prod_lista= mi_lista2*3\n",
        "print(f\"mi_lista2 x 2: {prod_lista}\")\n",
        "\n",
        "#mini ejercicio: qué pasa si multiplico mi_lista por mi_lista2?\n",
        "#prod_listas = mi_lista*mi_lista2"
      ]
    },
    {
      "cell_type": "markdown",
      "metadata": {
        "id": "7uNtMkzCKwiY"
      },
      "source": [
        "OPERADORES ARITMÉTICOS BÁSICOS"
      ]
    },
    {
      "cell_type": "code",
      "execution_count": null,
      "metadata": {
        "colab": {
          "base_uri": "https://localhost:8080/"
        },
        "id": "sybK7-0yIyDJ",
        "outputId": "84e0f127-fc43-459a-f684-1308d45bcde7"
      },
      "outputs": [
        {
          "name": "stdout",
          "output_type": "stream",
          "text": [
            "1.0\n",
            "0.0\n"
          ]
        }
      ],
      "source": [
        "#operadores aritmeticos basicos\n",
        "a=12.5\n",
        "b=3\n",
        "c=15\n",
        "#suma\n",
        "suma=a+b\n",
        "#resta\n",
        "resta=a-b\n",
        "#producto\n",
        "a*b\n",
        "#division\n",
        "a/b\n",
        "#potencia\n",
        "a**b\n",
        "#modulo\n",
        "a%b\n",
        "\n",
        "#mini ejercicio: imprima los resultados de las operaciones anteriores\n",
        "\n",
        "# errores numéricos\n",
        "suma1=1+(1.5e56-1.5e56)\n",
        "suma2=(1+1.5e56)-1.5e56\n",
        "print(suma1)\n",
        "print(suma2)"
      ]
    },
    {
      "cell_type": "markdown",
      "metadata": {
        "id": "AyLJKcIri9l0"
      },
      "source": [
        "OPERADORES BÁSICOS DE COMPARACIÓN"
      ]
    },
    {
      "cell_type": "code",
      "execution_count": null,
      "metadata": {
        "colab": {
          "base_uri": "https://localhost:8080/"
        },
        "id": "faCtntPnK1al",
        "outputId": "60f51ae3-fd7a-444f-b01d-5403f2ccb117"
      },
      "outputs": [
        {
          "data": {
            "text/plain": [
              "False"
            ]
          },
          "execution_count": 12,
          "metadata": {},
          "output_type": "execute_result"
        }
      ],
      "source": [
        "#operadores de comparacion basicos\n",
        "a=12.5\n",
        "b=3\n",
        "c=15\n",
        "#igual que\n",
        "a==b\n",
        "#diferente de\n",
        "a!=b\n",
        "#mayor que\n",
        "a>b\n",
        "#menor que\n",
        "a<b\n",
        "#mayor o igual\n",
        "a>=b\n",
        "#menor o igual\n",
        "a<=b\n",
        "\n",
        "#mini ejercicio: imprima el resultado de las comparaciones anteriores. qué tipo de variable es?\n",
        "\n",
        "\n",
        "#otros operadores de comparación: https://www.tutorialspoint.com/python/python_basic_operators.htm"
      ]
    },
    {
      "cell_type": "markdown",
      "metadata": {
        "id": "J4jl9fVRkiMx"
      },
      "source": [
        "CICLOS FOR"
      ]
    },
    {
      "cell_type": "code",
      "execution_count": null,
      "metadata": {
        "colab": {
          "base_uri": "https://localhost:8080/"
        },
        "id": "BvqLSNKOklNc",
        "outputId": "d7a8ddbc-7450-4d19-96cc-9cd5d9d1d814"
      },
      "outputs": [
        {
          "name": "stdout",
          "output_type": "stream",
          "text": [
            "i: 0\n",
            "i: 1\n",
            "i: 2\n",
            "i: 3\n",
            "i: 4\n",
            "i: 5\n",
            "i: 6\n",
            "i: 7\n",
            "i: 8\n",
            "i: 9\n",
            "elemento: 2\n",
            "elemento: 3\n",
            "elemento: 4\n",
            "elemento: 5\n",
            "elemento: 6.0\n",
            "elemento: gato\n"
          ]
        }
      ],
      "source": [
        "#ciclos con la función range\n",
        "for i in range(10):\n",
        "  print(f\"i: {i}\")\n",
        "\n",
        "#mini ejercicio: mire la documentación de range (por ejemplo acá: https://www.w3schools.com/python/ref_func_range.asp)\n",
        "# y haga que i vaya de -10 a 10 en pasos de 2.\n",
        "\n",
        "\n",
        "#ciclos recorriendo listas o arreglos\n",
        "\n",
        "lista4=[2,3,4,5,6.0,\"gato\"]\n",
        "for elemento in lista4:\n",
        "  print(f\"elemento: {elemento}\")\n",
        "\n"
      ]
    },
    {
      "cell_type": "markdown",
      "metadata": {
        "id": "cjtquhiSmVPG"
      },
      "source": [
        "NOTA IMPORTANTE!!! LA INDENTACIÓN SE UTILIZA PARA INDICAR QUÉ INSTRUCCIONES ESTÁN DENTRO DEL CICLO (O DENTRO DEL CONDICIONAL, O DENTRO DE LA FUNCION)...\n"
      ]
    },
    {
      "cell_type": "code",
      "execution_count": null,
      "metadata": {
        "colab": {
          "base_uri": "https://localhost:8080/"
        },
        "id": "IhZo-NqkmiP7",
        "outputId": "14f698ff-9166-490c-b66c-926daa766927"
      },
      "outputs": [
        {
          "name": "stdout",
          "output_type": "stream",
          "text": [
            "j: 0\n",
            "j+2: 2\n",
            "j: 1\n",
            "j+2: 3\n",
            "j: 2\n",
            "j+2: 4\n",
            "k: 0\n",
            "k: 1\n",
            "k: 2\n",
            "k+2: 4\n"
          ]
        }
      ],
      "source": [
        "# mini ejercicio: pruebe los dos ciclos que están a continuación. Cuál es la diferencia?\n",
        "for j in range(3):\n",
        "  print(f\"j: {j}\")\n",
        "  print(f\"j+2: {j+2}\") #nota: cuidado con el copy paste!!!!\n",
        "\n",
        "for k in range(3):\n",
        "  print(f\"k: {k}\")\n",
        "print(f\"k+2: {k+2}\")"
      ]
    },
    {
      "cell_type": "markdown",
      "metadata": {
        "id": "c658PPBEjjC1"
      },
      "source": [
        "ARREGLOS DE NUMPY"
      ]
    },
    {
      "cell_type": "code",
      "execution_count": null,
      "metadata": {
        "colab": {
          "base_uri": "https://localhost:8080/"
        },
        "id": "hLFyyMipjCTv",
        "outputId": "47e94fa1-135e-408a-d40b-09fbc28bd07e"
      },
      "outputs": [
        {
          "name": "stdout",
          "output_type": "stream",
          "text": [
            "[0. 0. 0. 0. 0. 0. 0. 0. 0. 0.]\n",
            "[ -8.  -1.   0.   1.   8.  27.  64. 125. 216. 343.]\n"
          ]
        }
      ],
      "source": [
        "\n",
        "#numpy arrays\n",
        "\n",
        "#import la librería de numpy para poder usar arreglos\n",
        "import numpy as np\n",
        "\n",
        "#genero un arreglo de ceros de 10 elementos:\n",
        "arreglo=np.zeros(10)\n",
        "print(arreglo)\n",
        "\n",
        "#remplazo los ceros del arreglo por otro valor usando un ciclo (ver la celda de más adelante)\n",
        "for i in range(10):\n",
        "\tarreglo[i]=(i-2)**3\n",
        "print(arreglo)\n",
        "\n",
        "\n",
        "#mini ejercicio: multiplique el arreglo por 3 e imprima el resultado. Qué diferencia hay con las listas?"
      ]
    },
    {
      "cell_type": "markdown",
      "metadata": {
        "id": "EnyWAtI_r3-L"
      },
      "source": [
        "SLICING DE ARREGLOS DE NUMPY"
      ]
    },
    {
      "cell_type": "code",
      "execution_count": null,
      "metadata": {
        "colab": {
          "base_uri": "https://localhost:8080/"
        },
        "id": "ViEY8SI2r70D",
        "outputId": "aeeabb29-5b26-44bb-a091-f6927100c727"
      },
      "outputs": [
        {
          "name": "stdout",
          "output_type": "stream",
          "text": [
            "todo [ -8.  -1.   0.   1.   8.  27.  64. 125. 216. 343.]\n",
            "[1:3] [-1.  0.]\n",
            "[:3] [-8. -1.  0.]\n",
            "[3:] [  1.   8.  27.  64. 125. 216. 343.]\n",
            "[-3:] [125. 216. 343.]\n",
            "[3:-3] [ 1.  8. 27. 64.]\n",
            "[3:-3: 2] [ 1. 27.]\n"
          ]
        }
      ],
      "source": [
        "print(f\"todo {arreglo}\")\n",
        "print(f\"[1:3] {arreglo[1:3]}\")\n",
        "print(f\"[:3] {arreglo[:3]}\")\n",
        "print(f\"[3:] {arreglo[3:]}\")\n",
        "print(f\"[-3:] {arreglo[-3:]}\")\n",
        "print(f\"[3:-3] {arreglo[3: -3]}\")\n",
        "print(f\"[3:-3: 2] {arreglo[3: -3: 2]}\")"
      ]
    },
    {
      "cell_type": "markdown",
      "metadata": {
        "id": "g5NvjoTwnzam"
      },
      "source": [
        "CONDICIONALES"
      ]
    },
    {
      "cell_type": "code",
      "execution_count": null,
      "metadata": {
        "colab": {
          "base_uri": "https://localhost:8080/"
        },
        "id": "lyy0hW69j_T-",
        "outputId": "2b950766-8140-4e7b-fa09-01fe1dd23601"
      },
      "outputs": [
        {
          "name": "stdout",
          "output_type": "stream",
          "text": [
            "25\n",
            "17\n",
            "13\n",
            "verdadero\n",
            "falso\n"
          ]
        }
      ],
      "source": [
        "var1=17\n",
        "var2=25\n",
        "var3=13\n",
        "lista_var=[12, 45, 17, 13]\n",
        "\n",
        "#if else\n",
        "if(var1>=var2):\n",
        "\tprint(var1)\n",
        "else:\n",
        "\tprint(var2)\n",
        "\n",
        "#if elif else\n",
        "if(var1>=var3):\n",
        "\tprint(var1)\n",
        "elif(var2>=var3):\n",
        "\tprint(var2)\n",
        "else:\n",
        "\tprint(var3)\n",
        "\n",
        "\n",
        "# or y and\n",
        "\n",
        "if(var1>var3 and var2>var3):\n",
        "\tprint(var3)\n",
        "\n",
        "if(var1<var3 or var2<var3):\n",
        "\tprint(var3)\n",
        "\n",
        "\n",
        "# in y not\n",
        "if(var1 in lista_var):\n",
        "\tprint(\"verdadero\")\n",
        "\n",
        "\n",
        "if(var2 not in lista_var):\n",
        "\tprint(\"falso\")\n"
      ]
    },
    {
      "cell_type": "markdown",
      "metadata": {
        "id": "tHWwqHSNob6i"
      },
      "source": [
        "WHILE"
      ]
    },
    {
      "cell_type": "code",
      "execution_count": null,
      "metadata": {
        "colab": {
          "base_uri": "https://localhost:8080/"
        },
        "id": "foUBkM3golWx",
        "outputId": "734dfe72-02c5-4171-f1fb-646ad5319070"
      },
      "outputs": [
        {
          "name": "stdout",
          "output_type": "stream",
          "text": [
            "10\n",
            "25\n",
            "40\n",
            "55\n",
            "70\n",
            "85\n",
            "100\n",
            "115\n"
          ]
        }
      ],
      "source": [
        "#while\n",
        "\n",
        "j=10\n",
        "\n",
        "while(j<120):\n",
        "\tprint(j)\n",
        "\t#ojo:\n",
        "\tj+=15"
      ]
    },
    {
      "cell_type": "markdown",
      "metadata": {
        "id": "Yv_3W0Wpota0"
      },
      "source": [
        "FUNCIONES"
      ]
    },
    {
      "cell_type": "code",
      "execution_count": null,
      "metadata": {
        "colab": {
          "base_uri": "https://localhost:8080/"
        },
        "id": "QNIzW2N-ovU9",
        "outputId": "d5482cd3-d769-4006-c075-a845769df43e"
      },
      "outputs": [
        {
          "name": "stdout",
          "output_type": "stream",
          "text": [
            "parametro1=  3\n",
            "resultado 16\n"
          ]
        }
      ],
      "source": [
        "#defino una función que llamo mi_funcion. Uso la indentación para indicar qué está dentro de mi función\n",
        "def mi_funcion(parametro1, parametro2):\n",
        "  #la función imprime el parametro1\n",
        "\tprint(f\"parametro1=  {parametro1}\")\n",
        "  #la función retorna el parametro2\n",
        "\treturn parametro2**2\n",
        "\n",
        "#llamo mi mi funcion con los valores 3 y 4 y almaceno lo que retorna mi_funcion en la variable resultado\n",
        "resultado=mi_funcion(3,4)\n",
        "print(f\"resultado {resultado}\")\n",
        "\n",
        "#mini ejercicio: prueben qué pasa si quieren imprimir la variable parametro2 por fuera de la función"
      ]
    },
    {
      "cell_type": "markdown",
      "metadata": {
        "id": "9MBvGG6GuMMO"
      },
      "source": [
        "++++++++++++++++++++++++++++++++++++++++++ EJERCICIOS\n",
        " ++++++++++++++++++++++++++++++++++++++++++"
      ]
    },
    {
      "cell_type": "markdown",
      "metadata": {
        "id": "1jkBGl2buuan"
      },
      "source": [
        "EJERCICIO 1:"
      ]
    },
    {
      "cell_type": "code",
      "execution_count": null,
      "metadata": {
        "colab": {
          "base_uri": "https://localhost:8080/"
        },
        "id": "WQxklqyOpaSK",
        "outputId": "cfebf253-5f09-4587-df03-b252e2690829"
      },
      "outputs": [
        {
          "name": "stdout",
          "output_type": "stream",
          "text": [
            "ejercicio 1\n"
          ]
        }
      ],
      "source": [
        "#ejercicio 1\n",
        "\n",
        "print(\"ejercicio 1\")\n",
        "\n",
        "#a) Inicializar dos variables globales (con valores escogidos por ustedes), una entera y otra flotante.\\\\\n",
        "\n",
        "\n",
        "#b) Imprimir los valores de las variables en un mensaje: #\n",
        "#\"la primera tiene un valor de XX y la segunda variable tiene un valor de YY\"\n",
        "\n",
        "\n",
        "\n",
        "#c) Calcular el valor de la segunda variable dividida por la primera e imprimir : \"El resultado es ZZ\"\n",
        "\n",
        "\n",
        "\n",
        "#d) Crear una lista con los elementos: 101, 26, rio, gato, 17, 45 y 28 e imprimirla.\n",
        "\n",
        "\n",
        "#e) Agregarle a esa lista los elementos: 257, 285, 583\n",
        "\n",
        "\n",
        "#f) Hacer un ciclo para recorrer dicha lista e imprimir sus elementos.\n",
        "\n",
        "\n",
        "#g) imprimir el cuarto elemento de la lista.\n",
        "\n",
        "\n",
        "#h) Calcular la longitud de la lista e imprimir: \"la longitud de la lista es XX\" puede usar le función len()\n",
        "\n"
      ]
    },
    {
      "cell_type": "markdown",
      "metadata": {
        "id": "bu0z0nRLu64_"
      },
      "source": [
        "EJERCICIO 2:"
      ]
    },
    {
      "cell_type": "code",
      "execution_count": null,
      "metadata": {
        "colab": {
          "base_uri": "https://localhost:8080/"
        },
        "id": "KWQfl16quw8o",
        "outputId": "0ec7ced5-84df-4fec-8dc4-6ce512287f59"
      },
      "outputs": [
        {
          "name": "stdout",
          "output_type": "stream",
          "text": [
            "arreglo x: [291 112 830 230  36 470 162 523 496 835 359 738 703 255 819 813 606   5\n",
            " 855 784 711 532 357 534   7 701  12 271 894 396 420  27 230 814 643 337\n",
            " 354 778 470 261 353 849 367 421 419 577 333 143 186 210 856 871 590 708\n",
            " 854 746  93 438 771 376 539 425 383  48 549 640 711 887 430 495  36 816\n",
            " 134 360 718 580 294 239  74  12 641 319  75  53 632 778 103 695 644 537\n",
            "  48 541 816 127  25 425 258 345 708 268]\n"
          ]
        }
      ],
      "source": [
        "# Complete el siguiente código para que:\n",
        "# recorra el arreglo `x`\n",
        "# imprima los números impares\n",
        "# y pare de imprimir al encontrar un número mayor a 700\n",
        "\n",
        "import numpy as np\n",
        "\n",
        "#genero un arreglo de número aleatorios:\n",
        "x=np.int_(np.random.random(100)*900)\n",
        "print(f\"arreglo x: {x}\")\n",
        "\n",
        "\n"
      ]
    },
    {
      "cell_type": "markdown",
      "metadata": {
        "id": "jWFl8rsZvKOT"
      },
      "source": [
        "EJERCICIO 3:"
      ]
    },
    {
      "cell_type": "code",
      "execution_count": null,
      "metadata": {
        "colab": {
          "base_uri": "https://localhost:8080/"
        },
        "id": "GRWQWWDqvEf5",
        "outputId": "163a60c2-6cfb-414f-85ac-19131daf78b3"
      },
      "outputs": [
        {
          "name": "stdout",
          "output_type": "stream",
          "text": [
            "ejercicio 3\n"
          ]
        }
      ],
      "source": [
        "#ejercicio 3\n",
        "print(\"ejercicio 3\")\n",
        "\n",
        "#Haga una función llamada multiplicación\n",
        "#que reciba como argumentos dos variables a y b y retorne a*b.\n",
        "#Imprima lo que retorna la función para a=10 y b=18\n",
        "\n"
      ]
    },
    {
      "cell_type": "markdown",
      "metadata": {
        "id": "Lyvoe9jfv08k"
      },
      "source": [
        "EJERCICIO 4"
      ]
    },
    {
      "cell_type": "code",
      "execution_count": null,
      "metadata": {
        "colab": {
          "base_uri": "https://localhost:8080/"
        },
        "id": "sOk7d-7evMIw",
        "outputId": "ae3c3bb8-aee0-402f-c93f-33e9d853dc8b"
      },
      "outputs": [
        {
          "name": "stdout",
          "output_type": "stream",
          "text": [
            "ejercicio 4\n"
          ]
        }
      ],
      "source": [
        "#ejercicio 4\n",
        "print(\"ejercicio 4\")\n",
        "# Complete el siguiente código para que:\n",
        "# recorra la lista x del ejercicio 2 y encuentre el mínimo de los elementos de la lista.\n",
        "#Compare su resultado con el obtenido por np.min e imprima un mensajito con ambos valores.\n",
        "\n"
      ]
    },
    {
      "cell_type": "markdown",
      "metadata": {
        "id": "mHpcqMRNv7jv"
      },
      "source": [
        "EJERCICIO 5"
      ]
    },
    {
      "cell_type": "code",
      "execution_count": null,
      "metadata": {
        "colab": {
          "base_uri": "https://localhost:8080/"
        },
        "id": "OBP4y_u1v6kz",
        "outputId": "1ece344a-6351-47bd-f7d6-f4d75df96dbc"
      },
      "outputs": [
        {
          "name": "stdout",
          "output_type": "stream",
          "text": [
            "ejercicio 5\n",
            "arreglo x:  [291 702 280 879 317  75  33  31 423 493 626 212  82   5 529 818 303 104\n",
            " 317  80 118 508 114 519 149   9 825 854 199 465 359  82 630 833 129 736\n",
            " 612 766 113 458 659 352 532 257  20 338 342 750  96 252 446  36 437 863\n",
            " 674 476 323 850 586 520 177 310 232 214 564 266 882 293 557  33 636 214\n",
            " 393 879 627 756 138 529 318 702 652  69 318 274 490 616  13 207 115 534\n",
            " 874 555 780 433 521  45 110 807 360  71]\n"
          ]
        }
      ],
      "source": [
        "#ejercicio 5\n",
        "print(\"ejercicio 5\")\n",
        "#  sin usar ciclos, sume los 10 primeros elementos del arreglo x a los 10 últimos elementos del arreglo x. Imprima el arreglo resultante.\n",
        "import numpy as np\n",
        "\n",
        "#genero un arreglo de número aleatorios:\n",
        "x=np.int_(np.random.random(100)*900)\n",
        "print(\"arreglo x: \", x)\n"
      ]
    },
    {
      "cell_type": "code",
      "execution_count": null,
      "metadata": {
        "id": "hkPMFa3mwHQ9"
      },
      "outputs": [],
      "source": []
    }
  ],
  "metadata": {
    "colab": {
      "provenance": []
    },
    "kernelspec": {
      "display_name": "Python 3",
      "name": "python3"
    },
    "language_info": {
      "name": "python"
    }
  },
  "nbformat": 4,
  "nbformat_minor": 0
}
